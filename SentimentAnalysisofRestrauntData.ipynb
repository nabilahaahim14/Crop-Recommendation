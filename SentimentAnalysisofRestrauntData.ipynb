{
  "cells": [
    {
      "cell_type": "markdown",
      "metadata": {
        "id": "BPc96n4Nl35H"
      },
      "source": [
        "Upload kaggle.json to access datasets"
      ]
    },
    {
      "cell_type": "code",
      "source": [],
      "metadata": {
        "id": "dy-xgbq1lvzt"
      },
      "execution_count": null,
      "outputs": []
    },
    {
      "cell_type": "markdown",
      "metadata": {
        "id": "b6GQo5lAmHEo"
      },
      "source": [
        "Install pyspark"
      ]
    },
    {
      "cell_type": "code",
      "execution_count": null,
      "metadata": {
        "colab": {
          "base_uri": "https://localhost:8080/"
        },
        "id": "IoQRXtdJl1SX",
        "outputId": "79bdade0-4627-437a-ed50-821cb4256132"
      },
      "outputs": [
        {
          "output_type": "stream",
          "name": "stdout",
          "text": [
            "Collecting pyspark\n",
            "  Downloading pyspark-3.5.0.tar.gz (316.9 MB)\n",
            "\u001b[2K     \u001b[90m━━━━━━━━━━━━━━━━━━━━━━━━━━━━━━━━━━━━━━━━\u001b[0m \u001b[32m316.9/316.9 MB\u001b[0m \u001b[31m2.5 MB/s\u001b[0m eta \u001b[36m0:00:00\u001b[0m\n",
            "\u001b[?25h  Preparing metadata (setup.py) ... \u001b[?25l\u001b[?25hdone\n",
            "Requirement already satisfied: py4j==0.10.9.7 in /usr/local/lib/python3.10/dist-packages (from pyspark) (0.10.9.7)\n",
            "Building wheels for collected packages: pyspark\n",
            "  Building wheel for pyspark (setup.py) ... \u001b[?25l\u001b[?25hdone\n",
            "  Created wheel for pyspark: filename=pyspark-3.5.0-py2.py3-none-any.whl size=317425345 sha256=96558c441b4d27a73a54724e8b9aab006f718058f893bb43885f0b5f6606e1f4\n",
            "  Stored in directory: /root/.cache/pip/wheels/41/4e/10/c2cf2467f71c678cfc8a6b9ac9241e5e44a01940da8fbb17fc\n",
            "Successfully built pyspark\n",
            "Installing collected packages: pyspark\n"
          ]
        }
      ],
      "source": [
        "!pip install pyspark"
      ]
    },
    {
      "cell_type": "markdown",
      "metadata": {
        "id": "ph9Fe9DXoUHN"
      },
      "source": [
        "Install kaggle and access kaggle permissions with kaggle.json"
      ]
    },
    {
      "cell_type": "code",
      "execution_count": null,
      "metadata": {
        "colab": {
          "base_uri": "https://localhost:8080/"
        },
        "id": "W4lRp2QfoW69",
        "outputId": "0cc41e27-5e68-4893-a307-6b53b1af1903"
      },
      "outputs": [
        {
          "output_type": "stream",
          "name": "stdout",
          "text": [
            "Looking in indexes: https://pypi.org/simple, https://us-python.pkg.dev/colab-wheels/public/simple/\n",
            "Requirement already satisfied: kaggle in /usr/local/lib/python3.8/dist-packages (1.5.12)\n",
            "Requirement already satisfied: tqdm in /usr/local/lib/python3.8/dist-packages (from kaggle) (4.64.1)\n",
            "Requirement already satisfied: certifi in /usr/local/lib/python3.8/dist-packages (from kaggle) (2022.9.24)\n",
            "Requirement already satisfied: python-dateutil in /usr/local/lib/python3.8/dist-packages (from kaggle) (2.8.2)\n",
            "Requirement already satisfied: requests in /usr/local/lib/python3.8/dist-packages (from kaggle) (2.23.0)\n",
            "Requirement already satisfied: six>=1.10 in /usr/local/lib/python3.8/dist-packages (from kaggle) (1.15.0)\n",
            "Requirement already satisfied: urllib3 in /usr/local/lib/python3.8/dist-packages (from kaggle) (1.24.3)\n",
            "Requirement already satisfied: python-slugify in /usr/local/lib/python3.8/dist-packages (from kaggle) (7.0.0)\n",
            "Requirement already satisfied: text-unidecode>=1.3 in /usr/local/lib/python3.8/dist-packages (from python-slugify->kaggle) (1.3)\n",
            "Requirement already satisfied: idna<3,>=2.5 in /usr/local/lib/python3.8/dist-packages (from requests->kaggle) (2.10)\n",
            "Requirement already satisfied: chardet<4,>=3.0.2 in /usr/local/lib/python3.8/dist-packages (from requests->kaggle) (3.0.4)\n"
          ]
        }
      ],
      "source": [
        "!pip install kaggle\n",
        "!mkdir ~/.kaggle\n",
        "!cp kaggle.json ~/.kaggle/\n",
        "!chmod 600 ~/.kaggle/kaggle.json"
      ]
    },
    {
      "cell_type": "markdown",
      "metadata": {
        "id": "V-vj9nA5ogLv"
      },
      "source": [
        "Import necessary libraries (Some of these may be removed for final version)"
      ]
    },
    {
      "cell_type": "code",
      "execution_count": null,
      "metadata": {
        "colab": {
          "base_uri": "https://localhost:8080/"
        },
        "id": "KL2mVUBdopDy",
        "outputId": "38f5978c-7a5b-4732-861a-e5a7db62dd13"
      },
      "outputs": [
        {
          "output_type": "stream",
          "name": "stderr",
          "text": [
            "WARNING:root:'PYARROW_IGNORE_TIMEZONE' environment variable was not set. It is required to set this environment variable to '1' in both driver and executor sides if you use pyarrow>=2.0.0. pandas-on-Spark will set it for you but it does not work if there is a Spark context already launched.\n",
            "[nltk_data] Downloading package stopwords to /root/nltk_data...\n",
            "[nltk_data]   Unzipping corpora/stopwords.zip.\n",
            "[nltk_data] Downloading package wordnet to /root/nltk_data...\n",
            "[nltk_data] Downloading package omw-1.4 to /root/nltk_data...\n"
          ]
        },
        {
          "output_type": "execute_result",
          "data": {
            "text/plain": [
              "True"
            ]
          },
          "metadata": {},
          "execution_count": 3
        }
      ],
      "source": [
        "import pandas as pd\n",
        "import numpy as np\n",
        "import nltk\n",
        "import pyspark.pandas as ps\n",
        "import random\n",
        "\n",
        "from pyspark.sql import SparkSession\n",
        "from pyspark.sql.types import *\n",
        "from pyspark.sql.functions import *\n",
        "from pyspark.ml import Pipeline\n",
        "from pyspark.ml.classification import LogisticRegression\n",
        "from pyspark.ml.feature import HashingTF, Tokenizer, IDF, StopWordsRemover\n",
        "from pyspark.ml.feature import StringIndexer, CountVectorizer\n",
        "\n",
        "from sklearn.model_selection import train_test_split\n",
        "from sklearn.feature_extraction.text import TfidfTransformer, TfidfVectorizer\n",
        "\n",
        "from nltk.corpus import stopwords\n",
        "from nltk.stem import WordNetLemmatizer\n",
        "nltk.download('stopwords')\n",
        "nltk.download('wordnet')\n",
        "nltk.download('omw-1.4')"
      ]
    },
    {
      "cell_type": "markdown",
      "metadata": {
        "id": "EbHjlW6do5xF"
      },
      "source": [
        "Create Spark session"
      ]
    },
    {
      "cell_type": "code",
      "execution_count": null,
      "metadata": {
        "id": "EXrzc3BfpB9W"
      },
      "outputs": [],
      "source": [
        "spark = SparkSession.builder.appName('Restaurant Data').getOrCreate()"
      ]
    },
    {
      "cell_type": "markdown",
      "metadata": {
        "id": "AmYVAopepK2q"
      },
      "source": [
        "Get restaurant data"
      ]
    },
    {
      "cell_type": "code",
      "execution_count": null,
      "metadata": {
        "colab": {
          "base_uri": "https://localhost:8080/"
        },
        "id": "gXx0ahVipPG4",
        "outputId": "d98714e8-b123-4fdb-c29f-cdf6847c51f7"
      },
      "outputs": [
        {
          "output_type": "stream",
          "name": "stdout",
          "text": [
            "Downloading a-tripadvisor-dataset-for-nlp-tasks.zip to /content\n",
            "100% 591M/591M [00:04<00:00, 190MB/s]\n",
            "100% 591M/591M [00:04<00:00, 127MB/s]\n",
            "Archive:  a-tripadvisor-dataset-for-nlp-tasks.zip\n",
            "  inflating: Barcelona_reviews.csv   \n",
            "  inflating: London_reviews.csv      \n",
            "  inflating: Madrid_reviews.csv      \n",
            "  inflating: New_Delhi_reviews.csv   \n",
            "  inflating: New_York_reviews.csv    \n",
            "  inflating: Paris_reviews.csv       \n"
          ]
        }
      ],
      "source": [
        "!kaggle datasets download inigolopezrioboo/a-tripadvisor-dataset-for-nlp-tasks\n",
        "!unzip a-tripadvisor-dataset-for-nlp-tasks.zip"
      ]
    },
    {
      "cell_type": "markdown",
      "metadata": {
        "id": "6R2NLLvdpcCV"
      },
      "source": [
        "Create Spark dataframe using London reviews"
      ]
    },
    {
      "cell_type": "code",
      "execution_count": null,
      "metadata": {
        "id": "eV6fGPs2piRx"
      },
      "outputs": [],
      "source": [
        "df = spark.read.csv('London_reviews.csv', inferSchema = True, header = True)"
      ]
    },
    {
      "cell_type": "markdown",
      "metadata": {
        "id": "FEtDJjYdVEgh"
      },
      "source": [
        "**Preparing Data**\n",
        "\n",
        "a. Understanding Data and removing unwanted columns\n",
        "\n",
        "b. Filtering neutral reviews\n",
        "\n",
        "c. Assigning Positive and Negative Sentiment to Reviews based on Score (luckily this already exists in our dataset)\n",
        "\n",
        "d. Assigning Binary Rating as Target Variable 1: Positive 0: Negative"
      ]
    },
    {
      "cell_type": "markdown",
      "metadata": {
        "id": "IR6TY88LBMSz"
      },
      "source": [
        "We will use the following settings to check in on our progress at each step. However, this will add to our run time since .show is an action. This data already comes with a column 'sample' that lists if a review is positive or negative. This is useful for building an initial model."
      ]
    },
    {
      "cell_type": "markdown",
      "metadata": {
        "id": "uvAa244Yq6Bx"
      },
      "source": [
        "This is what our initial RDD looks like."
      ]
    },
    {
      "cell_type": "code",
      "execution_count": null,
      "metadata": {
        "colab": {
          "base_uri": "https://localhost:8080/"
        },
        "id": "HdXCQW0tpqZx",
        "outputId": "599fccde-2edd-4531-e373-2c9b77cef5bb"
      },
      "outputs": [
        {
          "output_type": "stream",
          "name": "stdout",
          "text": [
            "+---+-----------+--------------------+-------------+--------+----------------+----------------------------------------------------------------+--------------------------------------------------------------------------------------------------------------------------------------------------------------------------------------------------------------------------------------------------------------------------------------------------------------------------------+----------------------------------------------------------------------------------------------------------------------------------------------------------------------------------------------------------------------------------------------------------------------------------------------------------------------------------------------------------------------------------------------------------------------------------------------------------------------------------------------------------------------------------------------------------------------------------------------------------------------------------------------------------------------------------------------------------------------------------------------------------------------------------------------------------------------------------------------------------------------------------------------------------------------------------------------------------------------------+------------------+--------------+---------------------------------------------------------------------------------------------------------------+---------+\n",
            "|_c0|parse_count|restaurant_name     |rating_review|sample  |review_id       |title_review                                                    |review_preview                                                                                                                                                                                                                                                                                                                  |review_full                                                                                                                                                                                                                                                                                                                                                                                                                                                                                                                                                                                                                                                                                                                                                                                                                                                                                                                                                                 |date              |city          |url_restaurant                                                                                                 |author_id|\n",
            "+---+-----------+--------------------+-------------+--------+----------------+----------------------------------------------------------------+--------------------------------------------------------------------------------------------------------------------------------------------------------------------------------------------------------------------------------------------------------------------------------------------------------------------------------+----------------------------------------------------------------------------------------------------------------------------------------------------------------------------------------------------------------------------------------------------------------------------------------------------------------------------------------------------------------------------------------------------------------------------------------------------------------------------------------------------------------------------------------------------------------------------------------------------------------------------------------------------------------------------------------------------------------------------------------------------------------------------------------------------------------------------------------------------------------------------------------------------------------------------------------------------------------------------+------------------+--------------+---------------------------------------------------------------------------------------------------------------+---------+\n",
            "|0  |1          |Cocotte_Notting_Hill|5.0          |Positive|review_771556136|JUST PERFECT                                                    |I was away for couple of months and  I am so happy to be back for my regular cocotte meal, after collecting from the restaurant everything was as great and perfect than eating in. Juicy chicken, fresh side, amazing mash potato.What a great dinner at...                                                                    |I was away for couple of months and I am so happy to be back for my regular cocotte meal, after collecting from the restaurant everything was as great and perfect than eating in. Juicy chicken, fresh side, amazing mash potato.What a great dinner at home again thanks to COCOTTE.                                                                                                                                                                                                                                                                                                                                                                                                                                                                                                                                                                                                                                                                                      |September 23, 2020|London_England|https://www.tripadvisor.com/Restaurant_Review-g186338-d9994333-Reviews-Cocotte_Notting_Hill-London_England.html|UID_0    |\n",
            "|1  |2          |Cocotte_Notting_Hill|5.0          |Positive|review_771555883|Quality food, Food travels well, Excellent customer service     |I recently ordered over the phone from Cocotte to collect for a gathering at home. On calling the restaurant for the delivery, the service was polite, well communicated and friendly. The person on the phone had a great knowledge of the menu and gave helpful...                                                            |I recently ordered over the phone from Cocotte to collect for a gathering at home. On calling the restaurant for the delivery, the service was polite, well communicated and friendly. The person on the phone had a great knowledge of the menu and gave helpful suggestions for customer favourites. The food was ready to collect swiftly at the time we requested and was well packaged for the journey home. The food itself traveled well which is fantastic, the food remained warm and as tasty as when we've eaten on site. All in all what a fabulous night made perfect by Cocottes tasty food and efficient service.                                                                                                                                                                                                                                                                                                                                            |September 23, 2020|London_England|https://www.tripadvisor.com/Restaurant_Review-g186338-d9994333-Reviews-Cocotte_Notting_Hill-London_England.html|UID_1    |\n",
            "|2  |3          |Cocotte_Notting_Hill|5.0          |Positive|review_770716943|Came here because we missed                                     |Came here because we missed our table at Farmacy across the road. The waitress accommodated us within 10 minutes and offered suitable vegan food. No lager on tap but not the end of the world. Enjoyed everything. 2 people, 4 dishes, 2 cocktails and 2...                                                                    |Came here because we missed our table at Farmacy across the road. The waitress accommodated us within 10 minutes and offered suitable vegan food. No lager on tap but not the end of the world. Enjoyed everything. 2 people, 4 dishes, 2 cocktails and 2 beers came to £62 which seemed reasonable for this area in London. Would certainly come back for a snack.                                                                                                                                                                                                                                                                                                                                                                                                                                                                                                                                                                                                         |September 17, 2020|London_England|https://www.tripadvisor.com/Restaurant_Review-g186338-d9994333-Reviews-Cocotte_Notting_Hill-London_England.html|UID_2    |\n",
            "|3  |4          |Cocotte_Notting_Hill|5.0          |Positive|review_770027676|Great service                                                   |My first time in cocotte and was amazed by how friendly  this member of front of house staff Julia was. From I entered, during our meal and until we left. My partner was left delighted at how attentive she was and we will definitely come...                                                                                |My first time in cocotte and was amazed by how friendly this member of front of house staff Julia was. From I entered, during our meal and until we left. My partner was left delighted at how attentive she was and we will definitely come back again                                                                                                                                                                                                                                                                                                                                                                                                                                                                                                                                                                                                                                                                                                                     |September 12, 2020|London_England|https://www.tripadvisor.com/Restaurant_Review-g186338-d9994333-Reviews-Cocotte_Notting_Hill-London_England.html|UID_3    |\n",
            "|4  |5          |Cocotte_Notting_Hill|5.0          |Positive|review_766307138|𝓔𝔁𝓬𝓮𝓵𝓵𝓮𝓷𝓽 𝓕𝓪𝓻𝓶-𝓽𝓸-𝓣𝓪𝓫𝓵𝓮 𝓡𝓸𝓽𝓲𝓼𝓼𝓮𝓻𝓲𝓮|A healthy-homemade dishes using farm-grown ingredients 👍🏻 Really lovely ambience, chic, intimate, and romantic! ❤️ Just perfect with such a friendly service and of course delicious menu! 🤤 Swipe to see the outstanding dessert! 😉 #dinewithmalachi recommendＣＨＥＥＫＹ ＬＵＮＣＨA Quarter Free Range ChickenSourced...|A healthy-homemade dishes using farm-grown ingredients Really lovely ambience, chic, intimate, and romantic! ❤️ Just perfect with such a friendly service and of course delicious menu! Swipe to see the outstanding dessert! #dinewithmalachi recommend ＣＨＥＥＫＹ ＬＵＮＣＨ A Quarter Free Range Chicken Sourced from Evron, Pays de la Loire, France. I’d recommend go classic with Chicken gravy! Quinoa tabouleh Quinoa tabouleh, tomatoes, cucumber, pomegranate, red onion, parsley, mint, & chives in a lemony dressing. Baby Potatoes Best served with Truffle mayo! ＤＥＳＳＥＲＴ Rooster Choco Banoffee Bomb Chocolate Roaster filled with banoffee and honeycomb, then drizzled in a warm caramel sauce. ＣＯＣＫＴＡＩＬＳ White Tiger Tanqueray Gin, elderflower, lime juice Aperol Clásico Aperol, sparkling wine, sparkling water, fresh orange Check out their @cocorico_london too! Hope to be back again soon x #rotisserie #fresh #healthy #homemade|August 22, 2020   |London_England|https://www.tripadvisor.com/Restaurant_Review-g186338-d9994333-Reviews-Cocotte_Notting_Hill-London_England.html|UID_4    |\n",
            "+---+-----------+--------------------+-------------+--------+----------------+----------------------------------------------------------------+--------------------------------------------------------------------------------------------------------------------------------------------------------------------------------------------------------------------------------------------------------------------------------------------------------------------------------+----------------------------------------------------------------------------------------------------------------------------------------------------------------------------------------------------------------------------------------------------------------------------------------------------------------------------------------------------------------------------------------------------------------------------------------------------------------------------------------------------------------------------------------------------------------------------------------------------------------------------------------------------------------------------------------------------------------------------------------------------------------------------------------------------------------------------------------------------------------------------------------------------------------------------------------------------------------------------+------------------+--------------+---------------------------------------------------------------------------------------------------------------+---------+\n",
            "only showing top 5 rows\n",
            "\n"
          ]
        },
        {
          "output_type": "execute_result",
          "data": {
            "text/plain": [
              "996848"
            ]
          },
          "metadata": {},
          "execution_count": 7
        }
      ],
      "source": [
        "df.show(truncate = False, n = 5)\n",
        "df.count()"
      ]
    },
    {
      "cell_type": "markdown",
      "metadata": {
        "id": "0oT-QO3ipy4c"
      },
      "source": [
        "Our first step is to drop all columns other than restaurant_name, rating_review, sample, and review_full."
      ]
    },
    {
      "cell_type": "code",
      "execution_count": null,
      "metadata": {
        "id": "-jeEdruTp3fp"
      },
      "outputs": [],
      "source": [
        "df = df[['restaurant_name', 'rating_review', 'sample', 'review_full']]\n",
        "#df.show(truncate = False, n = 5)"
      ]
    },
    {
      "cell_type": "markdown",
      "metadata": {
        "id": "JqBSKFHDqcTl"
      },
      "source": [
        "Next we noticed that \"rating_review\" actually had string type values, so we converted them to double for future manipulation."
      ]
    },
    {
      "cell_type": "code",
      "execution_count": null,
      "metadata": {
        "colab": {
          "base_uri": "https://localhost:8080/"
        },
        "id": "TjlHHYjFqjPb",
        "outputId": "62a1e23c-e26f-4f30-fe9a-c41e9c1d775f"
      },
      "outputs": [
        {
          "output_type": "stream",
          "name": "stdout",
          "text": [
            "root\n",
            " |-- restaurant_name: string (nullable = true)\n",
            " |-- rating_review: string (nullable = true)\n",
            " |-- sample: string (nullable = true)\n",
            " |-- review_full: string (nullable = true)\n",
            "\n",
            "root\n",
            " |-- restaurant_name: string (nullable = true)\n",
            " |-- rating_review: double (nullable = true)\n",
            " |-- sample: string (nullable = true)\n",
            " |-- review_full: string (nullable = true)\n",
            "\n"
          ]
        }
      ],
      "source": [
        "df.printSchema()\n",
        "df = df.withColumn('rating_review', df.rating_review.cast('double'))\n",
        "df.printSchema()"
      ]
    },
    {
      "cell_type": "markdown",
      "metadata": {
        "id": "ibz8z147mmDh"
      },
      "source": [
        "After taking a deeper look at our data, we realized that in several rows the entries seem to be in the wrong column (something that is clearly a review being present under \"restaurant_name\", for instance). This could affect our model in a negative way, so we want to remove those rows.\n",
        "\n",
        "Additionally, we want to minimize how much weight our model is based on restaurants with a very low number of reviews. There are several restaurants in the data that have an average 5.0 review, which is realistically only the case because they have such a small sample size.\n",
        "\n",
        "We can address both of these problems by removing rows which have restaurant_names that appear more than one time in the entire dataset."
      ]
    },
    {
      "cell_type": "code",
      "execution_count": null,
      "metadata": {
        "id": "CQerbyzwnxuv"
      },
      "outputs": [],
      "source": [
        "uniquedf = df.groupBy('restaurant_name').agg(countDistinct('review_full')).orderBy('count(review_full)', ascending = True)\n",
        "#uniquedf.show(truncate = False, n = 5)\n",
        "#uniquedf.count()"
      ]
    },
    {
      "cell_type": "markdown",
      "metadata": {
        "id": "C2puWx-BsNOE"
      },
      "source": [
        "Looking at the whole dataset we discovered that the first restaurant to have more than one unique review was in the 275th row of our new 2100 row rdd."
      ]
    },
    {
      "cell_type": "code",
      "execution_count": null,
      "metadata": {
        "colab": {
          "base_uri": "https://localhost:8080/"
        },
        "id": "b-i939wXqh-g",
        "outputId": "f65ba0bd-5611-4348-e01d-bb4e1d0d0bc0"
      },
      "outputs": [
        {
          "output_type": "stream",
          "name": "stdout",
          "text": [
            " breaded chicken strips over cooked fried in old oil...\" ,  1\n",
            "Chotto_Matte ,  5\n"
          ]
        }
      ],
      "source": [
        "print(uniquedf.collect()[273][0], \", \", uniquedf.collect()[273][1])\n",
        "print(uniquedf.collect()[274][0], \", \", uniquedf.collect()[274][1])"
      ]
    },
    {
      "cell_type": "markdown",
      "metadata": {
        "id": "2p0kThjMubla"
      },
      "source": [
        "We created a new rdd of unique restaurant names with greater than one unique review by dropping the first 274 rows of uniquedf. From this, we made a list called restaurants based on the first column of this rdd."
      ]
    },
    {
      "cell_type": "code",
      "execution_count": null,
      "metadata": {
        "id": "XEwlwa62r0hg"
      },
      "outputs": [],
      "source": [
        "uniquedf2 = spark.createDataFrame(uniquedf.tail(uniquedf.count()-274), uniquedf.schema)\n",
        "#uniquedf2.show(n = 5)\n",
        "#uniquedf2.count()"
      ]
    },
    {
      "cell_type": "code",
      "execution_count": null,
      "metadata": {
        "colab": {
          "base_uri": "https://localhost:8080/"
        },
        "id": "97UH33ngfF6A",
        "outputId": "83b5c189-188a-418c-a3a4-6e40b65e3fa8"
      },
      "outputs": [
        {
          "output_type": "stream",
          "name": "stdout",
          "text": [
            "['Chotto_Matte', 'Merlot_Garden_Bar_Restaurant', 'Buns_and_Buns', 'Sweetsmile_Bakery_Patisserie', 'Roxie_Steak_Earlsfield', 'Roganic', 'Fumo', 'Daisy_Green', 'RedFarm', 'Le_Vacherin', 'Tulse_Hill_Hotel', 'The_Oval_Restaurant', 'Kitchen_W8', 'Whiskey_Ginger', 'Taro', 'Cedar_Lebanese_Restaurant', 'L_amour', 'Rucoletta', 'Damascus_Bite', 'Ask_For_Janice', 'Sim_s_Steak_House', 'Red_Rose_Takeaway', 'The_Counting_House', 'Grand_Cholan_Indian_Cuisine', 'Mint_Leaves_Real_Indian_Food', 'The_London_Burger_Co', '3AKE', 'TDQ_Steaks', 'Afrik_N_Fusion', 'Supplant_Limited', 'Rossopomodoro', 'Ading_s_Kitchen', 'Kalamaki_Street_Greek', 'Di_Stefano_Coffee', 'Pasta_Plant', 'London_Secret_Garden', 'Epic_Pies', 'William_s_Bar_and_Bistro', 'Pizzeria_Pellone_London', 'Bebs_Kitchen', 'Don_Ciccio_Osteria_Siciliana', 'Nora_Cafe', 'Legare', 'The_waves_seafood_grill', 'Acoustic_Brasserie', 'Tower_Mangal', 'Rosmarino', 'Albion_s_Restaurant', 'Da_Moreno', 'Pie_Minister', 'Rotate', 'Kanada_Ya_Upper_Street', 'The_Greenhouse_Deptford', 'Meze_Mazis', 'Sfizio_Italian_Tapas', 'Nest', 'Franco_bar_kitchen', 'Little_Brazil_Bar_Restaurant_Ltd', 'Leafy_Bean_Co', 'Myrtle_Restaurant', 'VyTA_Covent_Garden', 'Fushan_Japanese_Restaurant', 'The_Meet', 'The_Hayden', 'Tea_Darling_Refreshingly_Vintage', 'Cafe_12', 'Flock', 'Pizzeria_Di_Camden', 'Gaucho_Smithfield', 'Evelyn_s_Table', 'Moncks_of_Dover_St', 'Le_Tran_Cafe', 'St_James_Bar', 'Wild_Heart_Bar_Grill', 'Lost_Boys_Pizza_Camden', '129_HRD', 'Heritage_Dining_Bar', 'The_Hunter_s_Moon', 'Bowling_Bird', 'Humble_Grape_Canary_Wharf', 'Moira_Restaurant', 'Bife', 'Tania_s_of_Hampstead', 'Wild_Honey_St_James', 'Donnelly_s_Restaurant', 'Bruce_Burgers', 'Pham_house', 'Bow_Street_Tavern', 'Crudough_Sourdough_Pizza', 'Meson_Callejon', 'Osteria_Napoletana', 'Meridian_Lounge', 'Sichuan_Chef', 'Jolie', 'Omnino_Brazilian_Barbecue', 'Pitanga_Nostalgic_Nigerian_Food', 'The_House', 'Pizza_Union_Hoxton', 'Coach_Horses', 'Alla_Salute', '280_Degrees_African_Restaurant_Bar', 'Ginza_Onodera_Japanese_Restaurant', 'Piccolo_bar', 'Black_Radish', 'La_Cafeteria', 'Masters', 'Yatri', 'Tongue_Brisket', 'MBARE', 'Suvlaki_Shoreditch', 'Mangio', 'Cahoots_Ticket_Hall_Control_Room', 'Hotaru', 'Chimichurris', 'Maureens_Pie_Mash', 'La_Belle_Assiette_UK', 'New_City_Chinese_Restaurant', 'Macellaio_RC_Fitzrovia', 'Hungry_Turtle', 'The_Tower', 'Kolamba', 'The_Fox_Pheasant', 'Grilandia', 'Apollo_Restaurant', 'PerBacco', 'Noize', 'Minted_Lounge', 'Vegan_Yes', 'The_Camel_Public_House', 'Carpe_Diem', 'Volare', 'Meridionale', 'Daddy_Bao', 'Grays_and_Feather_Wine_Parlour', 'Artisan_Grill', 'Mangos_Indian_Bangladeshi_cuisine', 'The_Pear_Tree_at_Greenland_Place', 'Kamasutra_Indian_Restaurant', 'The_King_s_Arms', 'Franzina_Trattoria', 'Heroica_Lounge', 'Da_Henrietta', 'Two_One_Four', 'Elementree', 'Smoke_Salt', 'Trattoria_Terra', 'Fig_Tree_Cafe', 'HMS_Belfast', 'Santo_Mare', 'Cafe_Tiffin', 'The_Egerton_House_Hotel', 'Llerena_Iberico_Tapas_Bar', 'Satyrio_Restaurant_Wine_Merchant', 'Cocotte_Shoreditch', 'Cockneys_Pie_Mash', 'The_Gojk', 'Bucket_Seafood', 'Falafel_Feast', 'Saponara', 'BrewDog_Seven_Dials', 'Portobello_Ristorante', 'Kudu_Restaurant', 'Tanakatsu', 'Sidi_Bou_London', 'Richard_Haward_s_Oysters', 'Annabel_s', '33_Abbeville_Road', 'Rodfai_Thai_street_food', 'The_Mantl', 'Mi_Cocina_Es_Tuya', 'Tomoe', '28_50_Wine_Bar_Kitchen_Covent_Garden', 'Le_Petit_Citron', 'Sam_s_Riverside', 'Pilpel', 'The_English_Grill', 'Bocconi', 'The_Black_Prince_Pub', 'Sushi_Atelier', 'Premises_Cafe', 'Ecco_Pizza', 'Afternoon_Tea', 'Bonnane_cafe', 'Vantra_Vegan_Restaurant', 'MAP_Maison', 'Cabotte_Restaurant', 'Evoluzione_Restaurant', 'Lattakia', 'CheMen_Restaurant_Bar', 'Cafe_Van_Gogh', 'Pret_a_Manger_London_Notting_Hill_Gate_W11_branch', 'Amici', 'Jasmine_Thai_Restaurant', 'Moshi_Moshi', 'The_Curry_Room', 'The_Steak_Restaurant', 'Chapati_Club', 'The_Horse_and_Stables', 'El_Rancho_De_Lalo', 'Chicks_on_Fire', 'The_Taproom', 'Kaosarn', 'Kutir', 'Mr_Falafel', 'Gianni_s_Sandwich_Bar', 'IRVIN_BAR_GRILL', 'Fast_Break', 'Double_Six', 'Caractere', 'Kolam_South_Indian_Restaurant', 'Tokyo_Sukiyaki_Tei', 'Il_Primo_Ristorante', 'Saka_Maka', 'Mora_Restaurant', 'The_Mawson_Arms', 'Firebrand_Pizza', 'Shakeshuka', 'Market_Brasserie', 'Colonies', 'Maurizio_Barca', 'Pizzetta_Pizza', 'The_Chapel_Bar', 'Ralph_s_Coffee_Bar', 'The_One_Tun', 'Little_Wonder_Cafe', 'Barcelona_Tapas_Bar_Y_Restaurante', 'The_Marylebone_Hotel_Restaurant', 'Ye_Olde_Mitre', 'The_Londesborough', 'Golborne_Deli_Bistro', 'Capricci', 'Escudo_de_Cuba', 'Sorrento_In', 'Panda_Dim_Sum_Cafe', 'Mei_Ume_Restaurant', 'E_Four_Indian_Fusion', 'Les_Douceurs_de_la_Tentation', 'American_Bar', 'Ajanta', 'Laz_Camden', 'CoBa', 'Sappho_Meze_Bar', 'The_Crown_and_Cushion', 'Giorgio_at_Leadenhall', 'Terra_Rossa', 'Franx_Continental_Cafe', 'PAUL_Earls_Court', 'Honest_Burgers_Baker_St', 'Harana', 'Kozzy_Cafe', 'The_Royal_Air_Force_Club', 'Sinabro_Restaurant', 'Rice_Republic', 'Suburb_SW11_Bar_Dining', 'Bosa_Kitchen', 'The_Gibson', 'Ichi_Riki', 'Union_Viet', 'Parsons', 'The_Duchy_Arms', 'Ardiciocca', 'Rosetta', 'Mister_Lasagna', 'Cafe_Tarte', 'Meraki_Grill', 'Nurjenna_Finest_Indian_Cuisine', 'Lupins', 'Bellillo', 'Heist_Bank', 'B_Bagel_Bakery_Bar', 'Peter_s_Cafe', 'Pitted_Olive', 'Mio_Restaurant', 'The_Coach_Makers_Arms', 'Bar_Bruno', 'Radhuni_Southgate', 'Booma', 'Viet_Baguette_Ltd', 'Indian_YMCA_Dining_Hall', 'Caravan_Fitzrovia', 'Bella_Cosa', 'Tried_And_True', 'Sodo_Pizza', 'Unity_Diner', 'Copper_Ink', 'Arthur_Hooper_s', 'Yasar_s', 'Queen_of_Sheba', 'Riverside_Cafe_Lambeth_Pier', 'Antipasto_Pasta_Fresh_Pasta', 'One_Under_Lime', 'Piebury_Corner_Kings_Cross', 'The_Lale_Restaurant', 'Florentine_Restaurant_Bar', 'The_Walmer_Castle', 'The_Bar_at_Fortnum_Mason_Terminal_5', 'The_Nell_Gwynne_Tavern', 'Wine_and_Mousaka', 'Jerusalem_Tavern', 'Ugly_Dumpling', 'Adams_Cafe', 'Olive_And_Lemon_Cafe_Bistro', 'FINCHLEY_KITCHEN', 'Kokeb_Ethiopian_Restaurant', 'Melabes', 'The_Old_Fountain', 'Fifty_Five', 'Bar_Tozino', 'Ristorante_Carola', 'The_Petite_Coree', 'Amber', 'Black_Cat_cafe', 'Snaps_Rye', 'Flat_Iron_Tooley_St', 'Oi_Vita_Pizzeria', 'Smith_Whistle', 'Bar_Block', '28_Church_Row', 'Osteria_Tufo', 'The_Queen_s_Larder', 'Monty_s_Nepalese_Cuisine', 'Japes', 'Mosimann_s_Club', 'Le_Comptoir', 'Misato', 'Laksamania', 'Darkhorse_Restaurant_Bar', 'Brompton_Food_Market', 'La_Saporita', 'Table_Du_Marche', 'Burberry', 'The_Williams_Ale_Cider_House', 'St_Pancras_Bar_Restaurant_Fortnum_Mason', 'Ye_Olde_Watling', 'The_Star_Tavern', 'Kitchen_Table', 'Cornerstone', 'Paolo_s_Italian_Ristorante', 'Caviar_House_Prunier', 'Cora_Pearl_Restaurant', 'Kanada_Ya_Panton_Street', 'Cafe_Continente', 'The_Stable', 'Pho_Saigon', 'Crown_and_Anchor', 'A_Torre', 'Alexandrie_Restaurant', 'Anima_e_Cuore', 'Delamina', 'Radicals_and_Victuallers', 'La_Luna', 'Maximo_Italian_Bistrot', 'Korova_Restaurant', 'Laki_Kane', 'Primavera', 'Lagenda_Restaurant', 'Little_Sardegna', 'Flat_Three_Restaurant', 'Cafe_Maya', 'Ben_s_Fish_Chips_Restaurant', 'Comptoir_Libanais_Gloucester_Road', 'Bengal_Quay', 'Rakkas', 'Cafe_Ishaq', 'Strand_Cafe', 'Arro_Coffee_The_Temple_of_Coffee_BAYSWATER', 'Masala_Indian_Restaurant', 'Hicce', 'Kiku', 'L_Amorosa', 'Curry_Leaves', 'Sumak_Restaurant', 'Its_All_Greek_to_Me', 'Happiness_Forgets', 'Wild_Thyme', 'The_Promenade_at_The_Dorchester', 'The_Spotted_Horse', 'The_King_Of_Falafel', 'Paramount_Lebanese_Kitchen', 'Romulo_Cafe_and_Restaurant', 'Caboose', 'COYA_Angel_Court', 'Ngon_Ngon', 'Macellaio_RC', 'Kennedys_OF_Barbican', 'Punto_Italian_Restaurant', 'Dulce_Cafe', 'Chez_Abir_Restaurant', 'Cheneston_s_Restaurant', 'Blue_Anchor', 'Zaman', 'The_Marquis', 'Fabrizio_Restaurant', 'Sheila_s_Cafe', 'Ottoman_Turkish_Cuisine', 'Pappa_Ciccia_Fulham_High_Street', 'Vinoteca_Farringdon', 'Khamsa', 'MOC_Kitchen', 'Champagne_Fromage_Greenwich', 'Mr_Fogg_s_House_of_Botanicals', 'Miss_Tapas', 'Super_Tuscan', 'The_Game_Bird', 'Steak_on_the_Green', 'London_Showboat', 'The_Zetter_Townhouse_Cocktail_Lounge', 'Blandford_Comptoir', 'Princess_of_Prussia', 'Cirilo_Filipino_Kainan', 'Kashmir_A_Culinary_Paradise', 'Shahi_Pakwaan', 'Escocesa', 'The_Royal_Automobile_Club', 'Buckingham_Arms', 'Thai_West_Cafe', 'Tibita', 'L_Antipasto_City_Trattoria_Pizzeria', 'Cafe_338', 'The_Little_Thai', 'Palmers', 'Fine_Foods', 'Foley_s', 'Warda_Lebanese_Restaurant', 'The_Larrik', 'Home_SW15', 'Augustus_Harris', 'Casereccio', 'Mr_Bao', 'The_Eight_Bells', 'Supawan_Thai_Restaurant', 'Brat', 'Wassouf_Lounge', 'The_Spice_Indian_Restaurant', 'Lahpet', 'Great_Central_Bar_and_Restaurant', 'Arlo_s_Balham', 'Phoenix_Arts_Club', 'The_Charles_Holden', 'KataKata', 'Cibo', 'The_Lemon_Tree', 'The_Pride_of_Spitalfields', 'Salento', 'Coin_Laundry', 'Franco_Manca_Southfields', 'Boxcar_Bar_Kitchen', 'Corleone_Restaurant', 'Mercante', 'Al_Basha_Restaurant', 'Hobson_s_Fish_Chips', 'Indian_Veg_Bhelpuri', 'Kahani', 'Jikoni', 'La_Pizzica_Restaurant', 'Kappa', 'Halal_Restaurant', 'Afternoon_Tea_at_The_Montague_on_The_Gardens', 'Dip_Flip', 'McGlynn_s_Free_House', 'Fish_Wings_and_Tings', 'The_Pompidou_Cafe', 'Numidie_Bistro', 'Sussex_Arms', 'Chit_Chaat_Chai', 'Two_Point', 'Apres_Food_Co', 'Bar_Douro_London_Bridge', 'Hot_Stuff', 'Black_Blue_Steakhouse_Notting_Hill_Gate', 'Pure_Indian_Cooking', 'Yama_Momo', 'Itsu', 'The_Alchemist_St_Martins_Lane', 'Zala_grill', 'The_Three_Greyhounds', 'Oriole_Bar', 'Pizzicotto', 'The_Jasmine_by_Spice_Nouv_Oh', 'Pidgin', 'Il_Vicolo', 'Anglo', 'Olde_Goa', 'Patri_Hammersmith', 'Il_Guscio_Highbury', 'Clipstone', 'Poppy_s', 'The_Enterprise', 'The_Olive_Restaurant', 'BrewDog_Shepherd_s_Bush', 'Patara_Knightsbridge', 'The_Ring', 'Moor_Hitch', 'Noura_Knightsbridge', 'Il_Sugo', 'Cocotte_Notting_Hill', 'Canto_Corvino_Restaurant_Bar', 'New_London_Cafe', 'Pasta_Remoli_Finsbury_Park', 'The_Quince_Tree_cafe_at_Clifton_Nurseries', 'Tomo_Pizzeria_Restaurant', 'Hankies_Marble_Arch', 'Pane_Cunzato_Pizza_more', 'Balls_Brothers_Minster_Court', 'BAO_Fitzrovia', 'Cirrik_19_Numara_Bos', '50_Kalo_di_Ciro_Salvo', 'Maison_Bab', 'Tower_Tandoori', 'Ambience', 'Byron_Old_Brompton_Road', 'Nenno_Pizza_Restaurant', 'Luce_e_Limoni_Restaurant', 'Il_Convivio', 'Old_Amalfi', 'Kailash_Momo_Restaurant', 'Chojo', 'Melange', 'Dama_de_Elche', 'Market_Hall_Fulham', 'Margaux', 'Theo_s_Simple_Italian', 'Vinoteca_Marylebone', 'Teras_Turkish_BBQ_Restaurant', 'Pentolina', 'Robata', 'Lina_Stores_Restaurant', 'Vespa_Italian_Restaurant', 'Olivomare', '500_Restaurant', 'Liz_Cafe', 'The_Spice_Of_Life', 'Sugar_Cane_bar', 'BaoziInn_Soho', 'Sunday_Champagne_Brunch_at_The_Landmark_London', 'Piebury_Corner', 'Caravaggio', 'Senor_Ceviche_Charlotte_Street', 'Ichi_Sushi_and_Sashimi_Bar', 'Temper_Covent_Garden', 'Los_Molinos', 'Al_Santo_Restaurant', 'El_Inca_Plebeyo', 'The_Tiroler_Hut_Restaurant', 'Couscous_Darna_Restaurant', 'The_Lamb_Tavern', 'Jin_Kichi', 'Ship_Shovell', 'Band_of_Burgers', 'Plate_Restaurant_Bar_and_Bake', 'London_Shell_Co_Aboard_The_Prince_Regent', 'Best_Mangal_1996', 'Genzo_Greek', 'Adore_Remo', 'Flour_Grape', 'Cafe_Route', 'Pie_Crust', 'Half_Cup', 'Tea_and_Tattle', 'Quirinale', 'Lorne_Restaurant', 'Manuka_kitchen', 'Senzala', 'The_Craft_Beer_Co_Covent_Garden', 'Villa_Rosa', 'The_Old_Fire_Station', 'Bellamy_s_Restaurant', 'Beck_s_cafe', 'Popolo_Shoreditch', 'Philomena_s_Bar_Cafe', 'Plough_Way_Cafe', 'The_Yellow_House_Bar_Kitchen', 'Octoberfest_Pub_London', 'Mangal', 'Al_Waha', 'Texas_Joe_s_Slow_Smoked_Meats', 'The_Drawing_Rooms', 'Sowa_Restaurant', 'Moo_Cantina_Pimlico', 'Lurra', 'La_mia_Mamma', 'Harry_s_Bar_Pizzeria', 'Champagne_Charlies', 'Mohsen', 'Sefa_Restaurant', 'Corazon', 'Paccata_Crouch_End', 'Clarette', 'Riverside_2', 'Artusi', 'Duke_of_York', 'Italina_London', 'Scully_St_James_s', 'Le_Beaujolais', 'Bloomsbury_Street_Kitchen', 'The_Dean_Swift', 'Filika_Restaurant', 'The_Delaunay_Counter', 'Simpson_s_Tavern', 'The_Walrus_and_The_Carpenter', 'Ishtah', 'Anacapri', 'GWR_Pullman_Dining', 'Brazilian_Gourmet', 'Hansom_Cab', 'Condesa', 'Shah_Tandoori', 'Brasserie_Blanc_Chancery_Lane', 'Oz_Cafe', 'Imm_Thai_Fusion_Wimbledon', 'J_Sheekey_Atlantic_Bar', 'Kirvem', 'Aphrodite_Taverna', 'Honest_Burgers_Borough', 'Cafe_Parisienne', 'Treves_Hyde', 'The_Magpie', 'The_Sun_In_Splendour', 'Bella_Roma_Italian_Restaurant', 'Sabor', 'The_Yorkshire_Grey', 'Darcie_May_Green', 'The_Kings_Arms', 'L_Atelier_des_Chefs', 'O_ver', 'Silk_Road', 'Kona', 'Thali_Restaurant', 'Casa_Tua_Camden', '2_Veneti', 'North_Sea_Fish_Restaurant', 'Lily_Tandoori', 'The_Old_Brewery', 'Bob_s_Cafe_Queens_Park', 'Lots_Road_Pub_and_Dining_Room', 'Misto', 'Yashin_Sushi', 'Comptoir_Gascon', 'The_Clarence_in_Mayfair', 'The_Anchor_Tap', 'Farzi_Cafe', 'Red_Chilli', 'Verdi_s', 'Kings_Stores', 'Prince_Bonaparte', 'Sapori_Cafe_and_Restaurant', 'Hovarda', 'My_Place_Soho', 'All_Bar_One_Wimbledon', 'ZIMA_Russian_Restaurant', 'Augustine_Kitchen', 'Heap_s_Sausages', 'Burger_Lobster', 'Friends_of_Flavours', 'The_Temple_Brew_House', 'The_Dove', 'The_Pearson_Room', 'Yak_Yeti_Finsbury_Park', 'Viet_Grill', 'L_Autre', 'Koshari_Street', 'Latymers', 'All_Bar_One_St_Pauls', 'The_Bountiful_Cow', 'Brasserie_Max', 'Paradise_Hampstead_Indian', 'EaTurkish', 'Meraz', 'Trade', 'Sichuan_Folk_Chinese_Restaurant', 'R_H_Cafe_Art_Gallery', 'Hungry_Donkey', 'Chez_Vous', 'Ciullosteria', 'Pisqu', 'Portobello_Garden_Caffe', 'Waffle_Jack_s_American_Diner', 'Osteria_del_Portico', 'Toff_s', 'Azou', 'Sushinoen', 'Chick_n_Sours', 'Elvet_Steakhouse', 'Selale_Restaurant', 'Quartier_Restaurant_Eight_Members_Club', 'Agra_Restaurant', 'Monkey_Temple', 'Jean_Georges_at_The_Connaught', 'Ping_Pong_Bow_Bells_House', 'CERU_Soho', 'Dhaba_49', 'The_Potting_Shed_Restaurant_Bar', 'Chicken_Shop', 'Cacio_Pepe', 'The_Little_Square', 'Connaught_Bar', 'Cigalon', 'Dirty_Bones_Soho', 'Zizzi_Paddington_Street', 'Carmen_Tapas', 'Monkey_and_Me', 'PIX', 'Cappadocia', 'Bob_s_Cafe_Muswell_Hill', 'A_Toca_Restaurant', 'Manuel_s_Restaurant_and_Bar', 'Pasha', 'Salut', 'Olives_and_Meze', 'Vivat_Bacchus', 'Ella_Canta', 'Sri_Suwoon', 'In_Parma_by_Food_Roots', 'Brigadiers_London', 'Emmeline_s_Lounge', 'Kanishka_by_Atul_Kochhar', 'La_Tagliata_City', 'The_Pembroke', 'Brawn', 'Toulouse_Lautrec', 'Chinese_Cricket_Club', 'Mirror_Room', 'Boisdale_of_Bishopsgate', 'Al_Forno_Shepherd_s_Bush_Green', 'La_Dame_de_Pic_London', 'Amaranto_Restaurant_at_Four_Seasons', 'The_Vincent_Room_Brasserie_Bar_Escoffier_Room', 'The_Little_Taperia', 'Conchiglia', 'Caravan', 'Silka', 'Coal_Office_Restaurant', 'Hand_in_Hand', 'The_Builders_Arms_Kensington', 'Le_Colombier', 'Mangia_Bene', 'The_Schoolhouse', 'Copita', 'The_Ivy_Canary_Wharf', 'Istanbul_Restaurant', 'Forman_s_Restaurant', 'Les_110_De_Taillevent', 'Saporitalia', 'Hood', 'Blighty_Cafe_A_Commonwealth_Of_Nations_cafe_Finsbury_Park', 'Limin', 'Princess_Victoria', 'The_Grove', 'Claude_Bosi', 'Lorenzo_of_Crystal_Palace', 'Flora_Indica', 'Alice_House_Queen_s_Park', 'Asakusa', 'The_Kings_Head', 'Avista', 'Custom_House_Pub', 'Paradise_Indian_Restaurant', 'De_Amicis_Ristorante_Italiano', 'The_Plume_of_Feathers', 'Rossopomodoro_Chelsea', 'Primo_Bar', 'Noble_Rot', 'The_Hawley_Arms', 'Tom_Simmons_Tower_Bridge', 'Red_Lion_and_Sun', 'The_Dog_Duck', 'InterContinental_London_Park_Lane', 'Cafe_Amisha', 'The_Princess_of_Wales', 'The_Gatehouse', 'Honey_and_Smoke', 'El_Vaquero', 'Villa_Di_Geggiano', 'Karavas', 'Speedy_s_Sandwich_Bar_Cafe', 'Sagardi_Basque_Country_Chefs', 'La_Fiamma', 'The_Kitchen', 'Riccardo_s_Restaurant', 'Casa_Malevo', 'That_s_Amore_by_Fonte', 'Made_in_Brasil', 'Manjal', 'Clarke_s', 'Lime_and_Thyme', 'The_Bar_at_The_Dorchester', 'Carob_Tree_Restaurant', 'Dotori', 'The_Abingdon', 'Bombay_Palace', 'Mint_Leaf_Lounge', 'Toro_Gordo', 'Pizzeria_Canti_Prosecco_Bar', 'L_Antica_Pizzeria', 'Nepal_Authentic_Dining', 'Pizza_Sophia', 'The_Clerk_and_Well', 'Revolution_Putney', 'Prima_Sapori_d_Italia', 'La_Barrique_Wine_Bar_Pizzeria', 'Guste_REMO', 'Oklava', 'The_Polo_Bar_at_The_Westbury_Mayfair_Hotel', 'Angelus', 'Wright_Brothers_South_Kensington', 'El_Ganso', 'Bierschenke', 'The_Old_Shades_London_Pub_Dining', 'The_Melody_Restaurant', 'Wahaca_Islington', 'Petek', 'Cote_Brasserie_Notting_Hill', 'Great_Nepalese', 'ROVI', 'Noura', 'Shoryu_Carnaby', 'The_Boot_and_Flogger', 'High_Timber', 'Osteria_Romana', 'The_Portman', 'The_Hoop_and_Grapes', 'The_Grenadier', 'ROSSODISERA_il_marchigiano', 'The_Life_Goddess_Store_Street', 'The_Fish_House_of_Notting_Hill', 'Egg_Break', 'Miller_Carter', 'Delamina_EAST', 'Leila_Moroccan_and_Lebanese_Restaurant', 'The_Mayor_of_Scaredy_Cat_town', 'Verdi_Italian_Kitchen', 'La_Cage_Imaginaire', 'Haven_Bistro_and_Bar', 'Cyprus_Mangal', 'Maroush_II', 'Il_Girasole', 'Taste_of_India', 'Obica_Mozzarella_Bar_Poland_Street', 'Greenberry_Cafe', 'Spaghetti_House_Woodstock_Street', 'The_Terrace', 'Siam_Garden', 'Brewhouse_Kitchen_Highbury', 'NOPI_Downstairs', 'Cafe_Phillies', 'The_Arts_Club', 'Il_Cucciolo_Ristorante_Italiano', 'Wahaca_St_Paul_s', 'Pico_Bar_Grill', 'Blue_Nile_Cafe', 'Passyunk_Avenue', 'Apero_Restaurant_Bar', 'The_Rising_Sun', 'KuPP_Paddington', 'Granaio', 'El_Vaquero_Whetstone', 'La_Fromagerie', 'Delfino', 'Aksular_Restaurant', 'Macellaio_RC_Exmouth_Market', 'Laurent_at_Cafe_Royal', 'The_Rosebery', 'Fora_Restaurant', 'La_farola', 'The_Little_Viet_Kitchen', 'The_Iskele', 'The_Peasant', 'Peninsula_Restaurant', 'The_Morgan_Arms', 'Kilis_Kitchen', 'Crocker_s_Folly', 'Zeytin_Restaurant', 'Prawn_on_the_Lawn', 'Roxie_Steak_Putney', 'Sadaf_Persian_Restaurant', 'The_Old_Red_Cow', 'Stone_Cave_Cafe_Bar_Restaurant', 'Ma_La_Sichuan', 'Mountain_View_Restaurant_Greenwich', 'The_Honest_Italian', 'Adventure_Bar', 'Darjeeling_Express', 'Bird_of_Smithfield', 'Casa_Tua_King_s_Cross', 'Nissi_Mezedakia_Restaurant', 'Abeno', 'Franco_Manca_Balham', 'Chamberlain_s_Restaurant', 'Sophie_s', 'Il_Blandford_s', 'Cafe_La_Divina', 'Bistro', 'Marie_s_Cafe', 'Cacciari_s', 'The_Frontline_Club', 'Cacciari_s_Italian_Pizzeria_Restaurant', 'Cote_Brasserie_Hampstead', 'Namaaste_Kitchen', 'Yum_Sa', 'The_Coal_Shed', 'Pakhtoon_Restaurant', 'MezzoRoma_Lounge', 'The_Good_Earth', 'Casa_do_Frango', 'Jamon_Jamon_Camden', 'The_Hill', 'Indian_Accent', 'Addie_s_Thai_Cafe', 'Jack_s_at_the_Junction', 'Ichibuns', 'GAIL_s_Bakery_Bloomsbury', 'Enoteca_Turi', 'Sahara_Grill_Hounslow', 'Fez_Mangal', 'Olivelli_Mayfair', 'Evans_Peel_Detective_Agency', 'Euston_Tap', 'Eastway_Brasserie', 'Fig_Olive', 'Pret_A_Manger', 'Bradley_s', 'The_Cheese_Bar', 'LayaLina', 'Emilia_s_Crafted_Pasta_St_Katharine_Docks', 'The_Black_Penny_Covent_Garden', 'Mosob_Restaurant', 'Brasserie_Blanc_Threadneedle_Street', 'The_Punchbowl', 'Shoryu_Soho', 'Michael_Nadra_Primrose_Hill_Brasserie_Bar', 'Gem_Restaurant', 'La_Tasca', 'Trattoria_Raffaele', 'The_Wells_Tavern', 'The_Light_House', 'The_Bell_Crown', 'Sticks_N_Sushi_Greenwich', 'Humble_Grape_Islington', 'E_O', 'The_Champion_Notting_Hill', 'Haz', 'Wahaca_Oxford_Circus', 'Sahara_Grill_Whitechapel', 'Hache_Shoreditch', 'Portland_Restaurant', 'Franco_Manca_South_Kensington', 'Kish_Restaurant', 'Salt_Pepper', 'El_Metro', 'Morito', 'Tukdin', 'Cote_Brasserie_Chiswick', 'Kinkao_Thai', 'Som_Saa', 'BungaTINI', 'Morso_Abbey_Road', 'Lord_Nelson', 'RAPSA', 'Burger_and_Shake', 'The_English_Restaurant', 'Le_Cafe_du_Marche', 'Gallipoli_Bistro', 'New_Fortune_Cookie', 'The_Scarsdale_Tavern', 'Grand_Trunk_Road', 'Chop_Shop', 'The_Wet_Fish_Cafe', 'Manhattan_Grill', 'Fish_in_a_Tie', 'St_Ermin_s_Tea_Lounge', 'Burger_and_Lobster_Oxford_Circus', 'Spaghetti_House_Kensington_High_Street', 'Kennedys_OF_Goswell_Road', 'Twist', 'Rossella', 'Prezzo_Mayfair', 'The_London_Gin_Club', 'Honest_Burgers_Camden', 'Bella_Vita', 'The_Sipping_Room', 'Osteria_Dell_Angolo', 'Crust_Bros', 'Pulia', 'Umu', 'Bombay_Bustle', 'Buen_Ayre', 'Govinda_s_Pure_Vegetarian_Restaurant', 'Hazara', 'Bon_Gusto', 'The_Jack_Horner', 'Bodean_s_BBQ_Covent_Garden', 'Hafez_Restaurant', 'Blacklock_City', 'Efes_Restaurant', 'Barrica', 'Indian_Zing', 'The_Fortnum_s_Bar_Restaurant', 'Otto_s', 'Lyle_s', 'Byron_Waterloo', 'The_Flask_Hampstead', 'Eat_17', 'Hache', 'Gordon_Ramsay_Street_Pizza', 'Wahaca_Wimbledon', 'Constancia', 'Honest_Burgers_Covent_Garden', 'Vasco_Piero_s_Pavilion_Restaurant', 'Terry_s_Cafe_London', 'Purezza_Camden', 'Bugis_Street_Brasserie', 'Punch_Tavern', 'Chiswell_Street_Dining_Rooms', 'Mai_Sushi', 'Bancone', 'Paladar', 'Royal_Court_Bar_Kitchen', 'The_Mitre', 'Mumbai_Delight', 'Banana_Tree_Angel', 'The_Wolseley', 'Ishbilia', 'La_Patagonia', 'Cote_Brasserie_Wimbledon', 'The_Monkey_Puzzle', 'Hankies_Cafe', 'Roxie_Steak_Fulham', 'ASK_Italian_London_Wigmore_Street', 'Cote_Brasserie_Ealing', 'Gunpowder', 'Panas_Gurkha_Restaurant', 'The_Market_Porter', 'North_Pole_Restaurant', 'Bistrotheque', 'Omnino_Leadenhall', 'Cote_Brasserie_Blackheath', 'Est_India', 'Kitty_Fisher_s', 'Hache_Clapham', 'Dinings', 'Gustoso_Ristorante_Enoteca', 'APULIA', 'The_Footman', 'Leinster_Arms', 'The_White_Lion', 'Aviary', 'Sticks_n_Sushi_Canary_Wharf', 'Best_Mangal_Kings_Cross_Branch', 'Percy_Founders', 'Vivat_Bacchus_London_Bridge', 'DUKES_Bar', 'African_Gallery_Kitchen', 'Mango_Indian', 'Bravi_Ragazzi_Pizza', 'The_Quality_Chop_House', 'Coda_Restaurant_by_Eric_Chavot', 'Shackfuyu', 'Margot', 'Elystan_Street', 'Tapas_Brindisa_Shoreditch', 'Skinners_Arms', 'The_Grill_at_Amba_Hotel_Marble_Arch', 'Everest_Inn_Blackheath_Village', 'Salaam_Namaste', 'Spicy_Basil', 'Gola_Restaurant', 'Wolkite_restaurant', 'Hunan', 'All_Bar_One', 'Da_Corradi', 'Bala_Baya', 'Malabar_Junction', 'Thai_Pot_Bedfordbury', 'Honest_Burgers_Brixton', 'Mazi', 'Hiba_Express', 'Humble_Grape', 'Hispania_London', 'Kricket_Soho', 'Santini_Restaurant', 'Viet_Cafe', 'Tamarind_Kitchen', 'Sartoria', 'Bellaria_Restaurant_Wine_Bar', 'Joe_s_Kitchen', 'Maroush', 'Opium_Cocktail_Dim_Sum_Parlour', 'Luna_Nuova', 'Gaucho_City', 'Satay_House', 'Caminata', 'Zoilo', 'Pho', 'Aqua_Nueva', 'The_Blue_Door_Bistro', 'Demartino_London', 'StickyWings', 'The_Clachan', 'Loco_Mexicano', 'Spuntino', 'Pappa_Roma', 'Meat_People', 'Chisou_Japanese_Restaurant', 'Flat_Iron_Curtain_Road', 'Chez_Antoinette', 'Beso', 'Bayleaf_Restaurant', 'Aquavit_London', 'Lord_Wargrave', 'Standard_Balti_House', 'Bellanger', 'Thali_Pickles_Indian_Dining', 'Cambio_de_Tercio', 'Steak_And_Lobster_Marble_Arch', 'MBER', 'The_Old_Bank_of_England', 'Chez_Elles_Bistroquet', 'Manna_London', 'Clos_Maggiore', 'Pepenero', 'Istanbul_Meze_Mangal', 'Iberica_Farringdon', 'Pret_a_Manger', 'Mr_Fogg_s_Society_of_Exploration', 'Saigon_Saigon', 'Lanes_of_London', 'Amerigo_Vespucci', 'Bistro_Benito', 'Efes_Meze', 'Harry_s_Bar', 'Annie_s_Restaurant_Chiswick', 'Le_Sacre_Coeur', 'Rivington_Bar_Grill_Greenwich', 'Gigs_Fish_and_Chips', 'Hook', 'Caldesi_In_Marylebone', 'Gordon_Ramsay_Maze_Grill_Park_Walk', 'The_Rib_Room_Bar_Restaurant', 'Great_Queen_Street', 'StreetXO', 'The_Cambridge', 'The_Laughing_Halibut', 'El_Pastor', 'Colosseo_Restaurant', 'The_Queens_Arms', 'Santore', 'Holy_Smoke', 'On_the_Bab', 'Al_Duca', 'Wright_Brothers_Spitalfields', 'Celeste', 'Mari_Vanna', 'Revolution_America_Square', 'Le_Bab', 'Old_Compton_Brasserie', 'Mimmo_La_Bufala', 'Scoff_Banter_Bloomsbury', 'The_Botanist', 'Wildwood_Kitchen', 'Absurd_Bird_Soho', 'The_Terrace_on_Piccadilly', 'Opso', 'Fish_Central', 'Likya_Ocakbasi_Restaurant', 'Bernardi_s', 'Refuel', 'Tapas_Revolution', 'Troubadour_London', 'Eneko_Basque_Kitchen_and_Bar', 'The_Brigade', 'The_Blacksmith_s_Arms', 'Merchants_Tavern', 'Bali_Bali', 'Hide', 'Granary_Square_Brasserie', 'Porcupine', 'Briciole', 'Luna_Rossa', 'Galvin_Bistrot_Bar', 'The_Barbary', 'Bill_s_Islington', 'Le_Restaurant_de_Paul', 'The_George_on_the_Strand', 'The_White_Onion', 'Bangalore_Express_City', 'Iberica_Victoria', 'Ozone_Coffee_Roasters', 'Forty_Dean_Street', 'The_Alchemist_Bevis_Marks', 'Buffalo_American_Grill_Tex_Mex', 'Tao_Tao_Ju', 'Cosmoba', 'Tredwells', 'Museum_Tavern', 'Mac_And_Wild_Fitzrovia', 'Potli_An_Indian_Market_Kitchen', 'Cocochan', 'Hala', 'Tandoor_Chop_House', 'Mr_Fogg_s_Tavern', 'Hakkasan_Hanway_Place', 'Pera_Restaurant_islington', 'Banana_Tree', 'Kibele_Restaurant_Bar', 'Blanchette', '10_Greek_Street', 'Pure_Cyprus', 'Club_Gascon', 'Sophie_s_Steakhouse_Chelsea', 'Wahaca_Charlotte_St', 'Kiln', 'Beast', 'Bokan_37_Restaurant', 'The_Colony_Grill_Room', 'Rock_Star_Sushi_Bar', 'Pho_Bun', '28_50_Marylebone_Lane', 'Provender', 'Busaba_Hoxton_Square', 'Pix', 'Mildreds_King_s_Cross', 'Ask_Italian_London_Gloucester_Arcade', 'Tapas_Brindisa_Soho', 'Wahaca_Canary_Wharf', 'The_Pig_Butcher', 'The_Delhi_Brasserie', 'Canada_Water_Cafe', 'The_Nightjar', 'Trinity_Restaurant', 'Farmacy', 'Lime_Orange', 'Babur_Restaurant', 'Rabbit', '5_Social', 'Mandarin_Kitchen', 'Drink_Shop_Do', 'Frog_By_Adam_Handling', 'Swan_at_Shakespeare_s_Globe', 'Tokyo_Diner', 'Bistro_1_Frith_Street', 'Il_Portico', 'Tapa_Tapa', 'Bombay_Spice', 'Joanna_s', 'Estiatorio_Milos', 'Scalini', 'Odette_s_Restaurant', 'St_John_Bread_and_Wine', 'La_Barca_Ristorante_Italiano', 'The_Alfred_Tennyson', 'Boyds_Grill_Wine_Bar', 'Mediterranean_Cafe', 'Guinea_Grill', 'Chiquito', 'Tiger_Green_Brasserie', 'The_Bike_Shed', 'Sen_Viet', 'Trullo', 'Meze_Mangal', 'Kanada_Ya_Ramen_Bar', 'City_Barge', 'La_Petite_Auberge', 'Pop_Sapori', 'Revolution_Leadenhall', 'La_Pappardella', 'The_Sitara', 'The_Ninth', 'Hawksmoor_Borough', 'Tierra_Peru', 'Oka_Restaurant', 'Frenchie_Covent_Garden', 'Daquise', 'Byward_Kitchen_and_Bar', 'Champor_Champor', 'Dirty_Bones_Shoreditch', 'Dehesa', 'The_Park_Room', 'The_Windmill_Mayfair', 'Smokestak', 'Mildreds_Camden', 'Gaucho_Charlotte_Street', 'Muhib_Indian_Cuisine', 'Ffiona_s', 'New_Street_Grill', 'Indigo_Restaurant', 'The_English_Rose_Cafe', 'VQ_Bloomsbury', 'Kalamaras_Greek_Taverna', 'Hudson_s_House', 'Cay_Tre', 'The_Elgar_Room_Brasserie', 'L_oro_di_Napoli', 'Strada_St_Katharine_Docks', 'Cafe_Monico', 'Dirty_Bones_Kensington', 'Marquis_of_Westminster', 'Quo_Vadis', 'The_Black_Dog_Freehouse', 'Piazza', 'Mimos_Cafe_Bar', 'Spice_Village_Tooting', 'Petrichor_At_The_Cavendish_London', 'Da_Paolo_Restaurant', 'Indian_City', 'Giovanni_s', 'Coco_Momo', 'Zonzo_Restaurant', 'Capeesh', 'The_Summerhouse', 'Beirut_Nights', 'Leggero', 'South_Place_Chop_House', 'Boro_Bistro', 'Blue_Boar_Restaurant', 'Gaucho_Broadgate', 'Olivelli_Waterloo', 'Seafresh_Fish_Restaurant', 'Halepi', 'Brasserie_Joel', 'Revolution_Bar_Clapham_High_Street', '45_Jermyn_St', 'Champagne_Fromage_Covent_Garden', 'The_Bull_Steak_Expert', 'The_10_Cases', 'Orient', 'Awesome_Thai_Barnes', 'The_Lobby_Bar', 'The_Rex_Whistler_Restaurant_Tate_Britain', 'Spring', 'The_Anchor_and_Hope', 'Fish_Market', 'The_Queen_s_Arms', 'TaNgia', 'The_Little_French_Restaurant', 'Zizzi_The_Strand', 'The_Porterhouse_Covent_Garden', 'Pizarro_Restaurant', 'Com_Viet', 'The_Table', 'Bella_Italia_South_Kensington', 'Zafferano', 'Grumbles', 'Franco_s', 'Fredericks_Restaurant', 'Paradise_by_Way_of_Kensal_Green', 'Roti_King', 'Megan_s', 'Brasserie_Blanc_Tower_Bridge', 'Bill_s_Covent_Garden', 'Sticks_N_Sushi_Wimbledon', 'Sake_no_Hana', 'Mnky_Hse', 'Chai_Ki', 'Yming', 'Bonnie_Gull_Seafood_Shack', 'Ormer_Mayfair', 'Orjowan', 'Applebee_s_Fish', 'Revolution', 'Kerridge_s_Bar_Grill', 'Goodman_City', 'Ember_Yard', 'Wahaca_White_City', 'Wright_Brothers_Soho', 'Cote_Brasserie_St_Pauls', 'The_Clove_Club', 'Barrio_Shoreditch', 'Cork_Bottle', 'Simply_Indian', 'The_Jones_Family_Project', 'Golden_Hind', 'Lokkanta_Meze_Barbeque', 'Jamavar', 'Indian_Moment', 'Kai_Mayfair', 'Zayna', 'CUT_at_45_Park_Lane', 'O_Sole_Mio', 'Avenue_Restaurant_Bar', 'The_Northall', 'Mr_Fogg_s_Gin_Parlour', 'Pachamama_Bar_Kitchen', 'Wan_Chai_Corner', 'Gold_Mine', 'Rangrez', 'Zia_Teresa', 'Hung_Drawn_Quartered', 'Dirty_Bones_Carnaby', 'The_Orange_Public_House', 'The_Mitre_in_Lancaster_Gate', '12th_Knot', 'Santa_Maria', 'Andrew_Edmunds', 'La_Poule_au_Pot', 'Sofra_Mayfair', 'Maison_Du_Mezze', 'Maroush_Express', 'The_Ivy_City_Garden', 'Ognisko_Restaurant', 'Gloria', 'Winter_Garden_Restaurant', 'Bleeding_Heart_Restaurant', 'Steak_Co', 'The_Empress', 'The_Wilmington', 'Prezzo_Italian_Restaurant_London_King_s_Cross', '34_Mayfair', 'Palms_of_Goa', 'The_Greenhouse', 'Dial_Arch', 'The_Drift', 'Nipa_Thai_Restaurant', 'Absurd_Bird_Spitalfields', 'Vietfood', 'Jose_Tapas_Bar', 'Shoryu', 'Honey_Co', 'Seven_Park_Place_By_William_Drabble', 'Ristorante_Orsini', 'Salsa_Temple', 'Min_Jiang', 'LPM_Restaurant_Bar', 'Zaibatsu', 'Mother_Mash', 'Spaghetti_House_Bryanston_Street', 'The_Queens_Head', 'Electric_Diner', 'Donna_Margherita', 'Rick_Stein_Barnes', 'Pizzeria_Pappagone', 'O_Neill_s_Kings_Cross', 'Butler_s_at_the_Chesterfield', 'The_Ship_Tavern', 'Busaba_Westfield_London', 'The_Library_at_County_Hall', 'Whyte_and_Brown', 'The_Goring_Cocktail_Bar', 'BAO_Soho', 'Fishers_Restaurant_Takeaway', 'Lowlander', 'Ishtar', 'Simpson_s_in_The_Strand', 'ASK_Italian', 'Yo_Sushi_Harvey_Nichols', 'Cafe_Rouge', 'Le_Gavroche', 'Salt_Yard', 'The_Victoria', 'The_Lamb_Flag', 'OXBO_Bankside', 'Cafe_Rouge_Hays_Galleria', 'Kua_Aina', 'The_Fire_Station', 'Tarshish', 'CERU', 'Santorini_Restaurant', 'Park_Terrace_Restaurant', 'Hoppers_Soho', 'Restaurant_Story', 'The_Gate_Hammersmith', 'Artist_Residence_Clubhouse', 'The_Prince_Edward', 'Niche_Gluten_free_Dining', 'Union_Tavern', 'Blue_Print_Cafe', 'Goodman_Canary_Wharf', 'Olives_Restaurant_and_Bar_Italian_Kitchen', 'The_Cutty_Sark', 'One_Twenty_One_Two_Restaurant', 'May_Fair_Kitchen', 'Sfoglia_Bologna_al_Mattarello', 'Cinnamon_Bazaar', 'Wiltons', 'Zizzi_Central_St_Giles', 'Pasta_Brown', 'Bravas_Tapas', 'A_Wong', 'East_Street_Fitzrovia', 'Scoff_And_Banter_Kensington', 'Arabica_Bar_Kitchen', 'Zizzi_Bow_Street', 'Macellaio_RC_South_Kensington', 'Ametsa', 'Jinjuu_Soho', 'Sketch_Lecture_Room_and_Library', 'Mere', 'Cafe_Murano_St_James', 'About_Thyme_Restaurant', 'The_Restaurant_at_The_Capital', 'Sofra', 'Memories_of_India_Kensington', 'ROKA_Mayfair', 'El_Pirata_of_Mayfair', 'Mr_Fogg_s_Residence', 'Big_Moe_s_Diner', 'Turtle_Bay_Brixton', 'Salvador_Amanda', 'Burger_and_Lobster_at_Harvey_Nichols', 'Bar_Block_Steakhouse', 'Sky_Pod_Bar', 'Cote_Brasserie_St_Christophers_Place', 'The_Ivy_Cafe_Wimbledon', 'Wahaca_Waterloo', 'Il_Bordello', 'ROKA_Aldwych', 'Temper', 'Texture', 'The_Goat', 'Lemonia_Greek', 'Prix_Fixe_Brasserie', 'Rowley_s_Restaurant', 'Cote_Brasserie_St_Katharine_Docks', 'Le_Boudin_Blanc', 'Le_Relais_De_Venise_Marylebone', 'Garfunkel_s_Restaurant', 'Le_Bistro_Savoir_Faire', 'The_Ivy_Cafe_Marylebone', 'Maggie_Jones_s', 'Cookhouse_Joe', 'Mughal_s', 'The_Grill_at_The_Dorchester', 'The_Archduke', '222_Vegan_Cuisine', 'Fischer_s', 'Indian_Express_West_Kensington', 'Polo_Bar', 'Pierre_Victoire', 'Iberica_Marylebone', 'Oslo_Court', 'The_Blues_Kitchen_Brixton', 'Umami', 'The_Mayflower_Pub', 'Yuu_Kitchen', 'Mestizo', 'Senor_Ceviche', 'AW_Restaurant', 'The_Ivy', 'Brumus_Bar_Restaurant', 'Pierino', 'The_Wellington', 'Bengal_Village', 'Sale_e_Pepe', 'The_Piano_Works_Farringdon', 'Maharaja_Indian_Restaurant', 'The_Blackfriar', 'Poppies_Fish_and_Chips_Camden', 'Dalloway_Terrace', 'Patara_Soho', 'Gaucho_Canary_Wharf', 'Boqueria', 'The_Goring_Dining_Room', 'L_Escargot_Restaurant_Bar', 'Garfunkel_s', 'Bbar', 'Medlar', 'Launceston_Place', 'Andina_Shoreditch', 'Sergio_s', 'Bar_Remo', 'JW_Steakhouse', 'Roux_at_Parliament_Square', 'Plateau', 'Wagamama_Covent_Garden', 'Hache_Camden', 'The_Hereford_Arms', 'L_Antica_Pizzeria_Da_Michele', 'The_Harwood_Arms', 'The_Duck_Rice', 'Hush', 'The_Foyer_At_Claridge_s', 'Granger_Co', 'The_Clink_Restaurant', 'The_Mayfair_Chippy_Fish_and_Chips', 'Trader_Vic_s', 'Cote_Brasserie_Soho', 'The_Thomas_Cubitt', 'The_Andover_Arms', 'Helene_Darroze_at_The_Connaught', 'Inamo', 'Salsa', 'Wright_Brothers_Borough', 'Burger_Lobster_City', 'Comedor_Grill_and_Bar', 'St_John', 'Hawksmoor_Knightsbridge', 'Sicily_by_da_Scalzo', 'The_Gun', 'Caxton_Grill', 'Camino_King_s_Cross', 'Cote_Brasserie_Sloane_Square', 'Barrafina', 'The_Oystermen_Seafood_Bar_Kitchen', 'Lobos', 'Trishna', 'Cantina_del_Ponte', 'Bill_s_High_Street_Kensington', 'Theo_Randall_at_the_InterContinental', 'Holborn_Dining_Room', 'Lima', 'Corrigan_s', 'Angler', 'Cafe_Pacifico', 'Baltic_Restaurant_Bar', 'Il_Posto', 'Hawksmoor_Guildhall', 'La_Trompette', 'The_Churchill_Arms', 'The_Real_Greek_Bankside', 'Ham_Yard_Restaurant_and_Bar', 'The_Admiralty', 'Antalya_Restaurant', 'Palm_Court_at_The_Langham', 'Rossopomodoro_Covent_Garden', 'Strada_Southbank', 'Soho_Joe', 'The_Port_House', 'Baileys_Fish_and_Chips', 'The_Famous_Curry_Bazaar', 'Island_Grill', 'The_Bombay_Brasserie', 'Padella', 'Fenchurch', 'Pied_a_Terre', 'Smith_Wollensky', 'Zaika', 'Hutong', 'Gaucho', 'Monmouth_Kitchen_Covent_Garden', 'Dean_Street_Townhouse_Hotel_Dining_Room', 'The_Five_Fields', 'Opera_Tavern', '108_Brasserie', 'Flesh_Buns_Covent_Garden', 'Bel_Canto_Restaurant', 'Chutney_Mary', 'Patty_Bun', 'Chino_Latino', 'Cecconi_s_Mayfair', 'Prezzo_St_Martins_Lane', 'Sartori_Restaurant', 'Busaba_St_Christopher_s_Place', 'Prezzo_Northumberland_Avenue', 'The_Red_Lion', 'Hawksmoor_Seven_Dials', 'Le_Pont_de_la_Tour', 'Orrery', 'Ciao_Bella', 'Liman_Restaurant', 'Momo', 'Locanda_Locatelli', 'Da_Mario_Kensington', 'The_Blackbird', 'Bar_Boulud', 'Fiddie_s_Italian_Kitchen', 'Humble_Grape_Battersea', 'Plum_and_Spilt_Milk', 'The_Blues_Kitchen_Shoreditch', 'Ping_Pong_Soho', 'Rabot_1745', 'Randall_Aubin', 'The_Yacht_London', 'Le_Caprice', 'Fishcotheque', 'Frankie_Benny_s', 'Jamon_Jamon', 'Ottolenghi_Islington', 'Brasserie_Blanc', 'Da_Mario_Covent_Garden', 'Khan_s_of_Kensington', 'Cabana_Covent_Garden', 'Pizza_East', 'Cafe_Spice_Namaste', 'Light_of_India', 'Christopher_s', 'Bizzarro', 'Union_Street_Cafe', 'Troia_Southbank_Charcoal_Kebab_Kitchen', 'Ponti_s_Italian_Kitchen_John_Princes_Street', 'Homeslice_Neal_s_Yard', 'Leicester_Square_Kitchen', 'Buenos_Aires_Argentine_Steakhouse', 'Le_Garrick', 'Muriel_s_Kitchen_South_Kensington', 'Tas_Restaurant', 'Gaucho_O2', 'Portrait_Restaurant', 'The_Banc', 'The_Palomar', 'Bill_s_Soho', 'Flat_Iron_Tottenham_Court_Rd', 'Social_Eating_House', 'City_Social', 'Thames_Foyer_at_The_Savoy', 'Souk', 'Joe_Allen', 'Kazan_Restaurant', 'The_Palm_Court', 'Gauthier_Soho', 'Amaya', 'Wahaca', 'Ceviche_Soho', 'Gillray_s_Steakhouse_Bar', 'Gordon_s_Wine_Bar', 'GONG_Bar', 'Ye_Olde_Cheshire_Cheese', 'Tamarind', 'Steak_And_Lobster_Warren_Street', 'ROKA_Charlotte_Street', 'Hawksmoor_Air_Street', 'Blacklock_Soho', 'Alain_Ducasse_at_The_Dorchester', 'Poppies_Fish_Chips', 'Banana_Tree_Soho', 'The_Rajdoot', 'Steak_Co_St_Martins_Ln', 'Cote_Brasserie_St_Martin_s_Lane', 'Gokyuzu_Restaurant', 'The_Swan', 'The_Blues_Kitchen_Camden', 'Honest_Burgers_Meard_St_Soho', 'Chez_Bruce', 'Gymkhana', 'Tozi_Restaurant_Bar', 'COYA', 'The_Diamond_Jubilee_Tea_Salon', 'Hard_Rock_Cafe_Piccadilly_Circus', 'Coq_d_Argent', 'The_Quilon_Restaurant', 'FishWorks', 'Hawksmoor_Spitalfields', 'Heliot_Steak_House', 'Burger_Lobster_Mayfair', 'Butlers_Wharf_Chop_House', 'San_Carlo_Cicchetti_Covent_Garden', 'Angus_Steakhouse', 'Busaba_Soho', 'Smith_s', 'Laughing_Gravy_Bar_Restaurant', 'Steak_Co_Garrick_Street_Covent_Garden', 'Bentley_s_Oyster_Bar_Grill', 'Murano', 'Kaspar_s_at_The_Savoy', 'Dinner_by_Heston_Blumenthal', 'Wagamama', 'Steak_Co_Gloucester_Road_Kensington', 'Rules_Restaurant', 'Wahaca_Soho', 'Veeraswamy', '100_Wardour_St', 'Sticks_N_Sushi_Covent_Garden', 'Las_Iguanas', 'Cinnamon_Kitchen_City', 'Lady_Dinah_s_Cat_Emporium', 'The_Monsoon', 'Pizza_Pilgrims', 'London_Steakhouse_Co', 'Little_India', 'Sarastro', 'Goodman', 'Bodean_s_BBQ', 'Mildreds_Soho', 'Indian_Lounge', 'Franco_Manca', 'Langans_Brasserie', 'Balthazar', 'Flat_Iron', 'Wahaca_Covent_Garden', 'Punjab_Restaurant', 'Bob_Bob_Ricard', 'Roux_At_The_Landau', 'Cahoots_Underground', 'Madison', 'Zuma_London', 'Bocca_di_Lupo', 'Gaucho_Tower_Bridge', 'Boulevard_Brasserie', 'Berners_Tavern', 'Paternoster_Chop_House', 'Heddon_Street_Kitchen', 'Inamo_Soho', 'Chettinad_Restaurant', 'Marcus', 'Petrus_by_Gordon_Ramsay', 'Dishoom_Carnaby', 'The_Ritz_Restaurant', 'Scott_s', 'German_Gymnasium', 'Cicchetti', 'Masala_Zone_Covent_Garden', 'Quaglino_s', 'Locale', 'NOPI', 'The_Breakfast_Club', 'Palm_Court_Brasserie', 'Flat_Iron_Covent_Garden', 'Restaurant_Gordon_Ramsay', 'Bread_Street_Kitchen', 'Ting_Restaurant_Lounge', 'The_Ledbury', 'Maxwell_s_Bar_Grill', 'Burger_Lobster_Soho', 'Darwin_Brasserie', 'Pollen_Street_Social', 'Cinnamon_Club', 'Galvin_at_Windows', 'Dans_Le_Noir', 'Benares_Restaurant_Bar', 'J_Sheekey', 'Skylon', 'Steak_Co_Leicester_Square_Charing_Cross', 'The_Real_Greek', 'The_Delaunay', 'Dishoom_King_s_Cross', 'The_Ivy_Market_Grill', 'Galvin_La_Chapelle', 'Gaucho_Piccadilly', 'Bella_Italia', 'Dishoom_Shoreditch', 'The_Savoy_Grill_Gordon_Ramsay', 'Honest_Burgers', 'Cote_Brasserie', 'SUSHISAMBA_Heron_Tower', 'Hard_Rock_Cafe', 'Brasserie_Zedel', 'Dishoom', 'Oxo_Tower_Restaurant_Bar_and_Brasserie']\n"
          ]
        }
      ],
      "source": [
        "restaurants = uniquedf2.select('restaurant_name').collect()\n",
        "rest_list = [row.restaurant_name for row in restaurants]\n",
        "print(rest_list)"
      ]
    },
    {
      "cell_type": "markdown",
      "metadata": {
        "id": "7ek9Ov_nvOzG"
      },
      "source": [
        "Now we can drop all rows which have restaurant_names outside of this new rdd."
      ]
    },
    {
      "cell_type": "code",
      "execution_count": null,
      "metadata": {
        "id": "YlZjtrN_vUOE"
      },
      "outputs": [],
      "source": [
        "df = df.filter(df.restaurant_name.isin(rest_list))"
      ]
    },
    {
      "cell_type": "markdown",
      "metadata": {
        "id": "DHVvfvP1qJhJ"
      },
      "source": [
        "Now that the nonsense rows have been removed, we can move on to our next data cleaning step by removing all rows with null values.\n",
        "\n",
        "---\n",
        "\n"
      ]
    },
    {
      "cell_type": "code",
      "execution_count": null,
      "metadata": {
        "id": "ZB1FlI9AqTKT"
      },
      "outputs": [],
      "source": [
        "df = df.dropna()\n",
        "#df.show(truncate = False, n = 5)"
      ]
    },
    {
      "cell_type": "markdown",
      "metadata": {
        "id": "a2sy7RQsCyJQ"
      },
      "source": [
        "First Checkpoint. If anything goes wrong later, we can start over with this."
      ]
    },
    {
      "cell_type": "code",
      "execution_count": null,
      "metadata": {
        "id": "aGKzuM4VCzc6"
      },
      "outputs": [],
      "source": [
        "check_df1 = df"
      ]
    },
    {
      "cell_type": "markdown",
      "metadata": {
        "id": "mRGjdQSoUvFN"
      },
      "source": [
        "**Text Pre Processing **\n",
        "\n",
        "a. Create UDF Functions for text processing: Convert to lower case, Remove Punctuations and alphanumeric words, Remove Stop words\n",
        "\n",
        "b. Text Lemmatization"
      ]
    },
    {
      "cell_type": "markdown",
      "metadata": {
        "id": "N0FiH8cLydVS"
      },
      "source": [
        "i) Convert reviews to lower case."
      ]
    },
    {
      "cell_type": "code",
      "execution_count": null,
      "metadata": {
        "id": "EHF5zawDkhAz"
      },
      "outputs": [],
      "source": [
        "df = check_df1.select(\"*\", lower(col('review_full')))\n",
        "df = df.drop(col('review_full'))\n",
        "df = df.withColumnRenamed('lower(review_full)', 'review_full')\n",
        "#df.show(truncate = False, n = 5)"
      ]
    },
    {
      "cell_type": "markdown",
      "metadata": {
        "id": "Xe74BOOnzNDL"
      },
      "source": [
        "ii) Remove punctuation and alphanumeric words\n",
        "\n",
        "For this we create a python function to leave only the lowercase letters and a space, then convert this function into a spark UDF."
      ]
    },
    {
      "cell_type": "code",
      "execution_count": null,
      "metadata": {
        "id": "khLWwdIF2FT6"
      },
      "outputs": [],
      "source": [
        "def only_letters(x): #ord(' ') == 32\n",
        "  stripped = (c for c in x \\\n",
        "              if ord(c) == 32 \\\n",
        "              or 96 < ord(c) < 123) #ord('a') - ord('z') = 97-122\n",
        "  return ''.join(stripped)\n",
        "\n",
        "only_letters_udf = udf(lambda x: only_letters(x))"
      ]
    },
    {
      "cell_type": "code",
      "execution_count": null,
      "metadata": {
        "id": "hdbkzAzA4TW-"
      },
      "outputs": [],
      "source": [
        "df = df.select(col('*')\n",
        "          , only_letters_udf(col('review_full')))\n",
        "df = df.drop(col('review_full'))\n",
        "df = df.withColumnRenamed('<lambda>(review_full)', 'review_full')\n",
        "#df.show(truncate = False, n = 5)"
      ]
    },
    {
      "cell_type": "markdown",
      "metadata": {
        "id": "7jxYoiwjDKCu"
      },
      "source": [
        "Second checkpoint."
      ]
    },
    {
      "cell_type": "code",
      "execution_count": null,
      "metadata": {
        "id": "ZD95DSOdDLNt"
      },
      "outputs": [],
      "source": [
        "check_df2 = df"
      ]
    },
    {
      "cell_type": "markdown",
      "metadata": {
        "id": "sguDKIro8GIi"
      },
      "source": [
        "iii) Remove stopwords\n",
        "\n",
        "Before we remove the stopwords we need to tokenize the text."
      ]
    },
    {
      "cell_type": "code",
      "execution_count": null,
      "metadata": {
        "id": "L23LVJOZ_ycr"
      },
      "outputs": [],
      "source": [
        "tokenizer = Tokenizer(inputCol = 'review_full', outputCol = 'tokens')\n",
        "df = tokenizer.transform(check_df2)\n",
        "df = df.drop(col('review_full'))\n",
        "df = df.withColumnRenamed('tokens', 'review_full')"
      ]
    },
    {
      "cell_type": "markdown",
      "metadata": {
        "id": "fP3SYV-hEw-Q"
      },
      "source": [
        "Once the reviews are tokenzied, we can use the pyspark StopWordsRemover to remove the stopwords (as one might guess)."
      ]
    },
    {
      "cell_type": "code",
      "execution_count": null,
      "metadata": {
        "id": "lDaGi2JfEUQE"
      },
      "outputs": [],
      "source": [
        "remover = StopWordsRemover(inputCol = 'review_full'\n",
        "  , outputCol = 'review_clean')\n",
        "df = remover.transform(df).select('*')\n",
        "df = df.drop(col('review_full'))\n",
        "df = df.withColumnRenamed('review_clean', 'review_full')\n",
        "#df.show(truncate = False, n = 5)"
      ]
    },
    {
      "cell_type": "markdown",
      "metadata": {
        "id": "ucBOCtSrFfh-"
      },
      "source": [
        "Third Checkpoint."
      ]
    },
    {
      "cell_type": "code",
      "execution_count": null,
      "metadata": {
        "id": "1qlbQ3daFgfx"
      },
      "outputs": [],
      "source": [
        "check_df3 = df"
      ]
    },
    {
      "cell_type": "markdown",
      "metadata": {
        "id": "3jK8a_lyFjX_"
      },
      "source": [
        "iv) Lemmatize"
      ]
    },
    {
      "cell_type": "code",
      "execution_count": null,
      "metadata": {
        "id": "ko2dwxGTFqe9"
      },
      "outputs": [],
      "source": [
        "lemmatizer = WordNetLemmatizer()\n",
        "def lemm(x):\n",
        "  lems = []\n",
        "  for word in x:\n",
        "    temp = lemmatizer.lemmatize(word)\n",
        "    lems.append(temp)\n",
        "  return ', '.join(lems)\n",
        "\n",
        "lemm_udf = udf(lambda x: lemm(x))"
      ]
    },
    {
      "cell_type": "code",
      "execution_count": null,
      "metadata": {
        "id": "m4omjFTdGW_8"
      },
      "outputs": [],
      "source": [
        "df = check_df3.select(col('*'), lemm_udf(col('review_full')))\n",
        "df = df.drop(col('review_full'))\n",
        "df = df.withColumnRenamed('<lambda>(review_full)', 'review_full')\n",
        "#df.show(truncate = False, n = 5)"
      ]
    },
    {
      "cell_type": "markdown",
      "metadata": {
        "id": "rli2QPYCGh7c"
      },
      "source": [
        "To create our sentiment analysis model, we will start by splitting our dataset into training data and testing data. The model will be designed using only the training data, and will then be evaluated against the testing data."
      ]
    },
    {
      "cell_type": "code",
      "execution_count": null,
      "metadata": {
        "id": "K5qC0fLK7mim"
      },
      "outputs": [],
      "source": [
        "(train_set, test_set) = df.randomSplit([0.8, 0.2], seed = 1213)"
      ]
    },
    {
      "cell_type": "markdown",
      "metadata": {
        "id": "O5reuwvgAaLa"
      },
      "source": [
        "Creating a logistic regression pipeline.\n",
        "\n",
        "Tokenizer -> TF/IDF -> logistic regression model"
      ]
    },
    {
      "cell_type": "code",
      "execution_count": null,
      "metadata": {
        "id": "kHBHoLy6IkHg"
      },
      "outputs": [],
      "source": [
        "tokenizer = Tokenizer(inputCol = 'review_full', outputCol = 'words')\n",
        "hashtf = HashingTF(numFeatures = 2**16, inputCol = 'words', outputCol = 'tf')\n",
        "idf = IDF(inputCol = 'tf', outputCol = 'features', minDocFreq = 5)\n",
        "label_stringIdx = StringIndexer(inputCol = 'rating_review', outputCol = 'label')\n",
        "pipeline = Pipeline(stages = [tokenizer, hashtf, idf, label_stringIdx])"
      ]
    },
    {
      "cell_type": "code",
      "execution_count": null,
      "metadata": {
        "id": "skxCcOP7JVFY"
      },
      "outputs": [],
      "source": [
        "pipelineFit = pipeline.fit(train_set)"
      ]
    },
    {
      "cell_type": "markdown",
      "metadata": {
        "id": "OsBoSxndAh4n"
      },
      "source": [
        "Fitting the pipeline along the training set and testing set."
      ]
    },
    {
      "cell_type": "code",
      "execution_count": null,
      "metadata": {
        "id": "vke4UfhfK0HN"
      },
      "outputs": [],
      "source": [
        "train_df = pipelineFit.transform(train_set)\n",
        "test_df = pipelineFit.transform(test_set)\n",
        "#train_df.show(n = 5)"
      ]
    },
    {
      "cell_type": "markdown",
      "metadata": {
        "id": "evun5WbuAlbi"
      },
      "source": [
        "Creating the predictive model based on the logistic regression on the training set."
      ]
    },
    {
      "cell_type": "code",
      "execution_count": null,
      "metadata": {
        "id": "Mpn2Ed2tLgQw"
      },
      "outputs": [],
      "source": [
        "lr = LogisticRegression(featuresCol = 'features', labelCol = 'label', maxIter = 100)\n",
        "lrModel = lr.fit(train_df)\n",
        "prediction = lrModel.transform(test_df)"
      ]
    },
    {
      "cell_type": "markdown",
      "metadata": {
        "id": "g_y2xFh3Arf1"
      },
      "source": [
        "Creating a new RDD which shows the rating_review and the predicted review based on our model."
      ]
    },
    {
      "cell_type": "code",
      "execution_count": null,
      "metadata": {
        "id": "Xc_rsRxWaTyN"
      },
      "outputs": [],
      "source": [
        "lrdf = lrModel.summary.predictions.select('restaurant_name', 'review_full', \\\n",
        "                                          'rating_review', 'prediction')\n",
        "lrdf = lrdf.withColumn('rating_prediction', col('prediction') - 5)\n",
        "lrdf = lrdf.drop('prediction')\n",
        "lrdf = lrdf.withColumn('prediction', col('rating_prediction')*-1)\n",
        "lrdf = lrdf.drop('rating_prediction')"
      ]
    },
    {
      "cell_type": "code",
      "execution_count": null,
      "metadata": {
        "colab": {
          "base_uri": "https://localhost:8080/"
        },
        "id": "Lw9irBuMgpjl",
        "outputId": "73d96132-74ac-4ffa-d336-e4c39ffa6dcd"
      },
      "outputs": [
        {
          "output_type": "stream",
          "name": "stdout",
          "text": [
            "+--------------------+--------------------+-------------+----------+\n",
            "|     restaurant_name|         review_full|rating_review|prediction|\n",
            "+--------------------+--------------------+-------------+----------+\n",
            "|280_Degrees_Afric...|bar, man, one, co...|          1.0|       1.0|\n",
            "|280_Degrees_Afric...|called, , degree,...|          1.0|       1.0|\n",
            "|280_Degrees_Afric...|get, empty, resta...|          1.0|       1.0|\n",
            "|280_Degrees_Afric...|god, bad, bad, ba...|          1.0|       1.0|\n",
            "|280_Degrees_Afric...|ordered, food, on...|          1.0|       1.0|\n",
            "|280_Degrees_Afric...|receiving, groupo...|          1.0|       1.0|\n",
            "|280_Degrees_Afric...|visited, restaura...|          1.0|       2.0|\n",
            "|280_Degrees_Afric...|watson, puff, puf...|          1.0|       1.0|\n",
            "|280_Degrees_Afric...|arrived, hr, took...|          2.0|       2.0|\n",
            "|280_Degrees_Afric...|booked, table, , ...|          2.0|       2.0|\n",
            "|280_Degrees_Afric...|food, alright, ni...|          2.0|       3.0|\n",
            "|280_Degrees_Afric...|restaurant, stand...|          2.0|       3.0|\n",
            "|280_Degrees_Afric...|went, try, someth...|          2.0|       2.0|\n",
            "|280_Degrees_Afric...|went, voucher, st...|          2.0|       2.0|\n",
            "|280_Degrees_Afric...|bought, voucher, ...|          3.0|       3.0|\n",
            "|280_Degrees_Afric...|came, deal, knowi...|          3.0|       3.0|\n",
            "|280_Degrees_Afric...|day, ago, pm, aft...|          3.0|       1.0|\n",
            "|280_Degrees_Afric...|dinner, recently,...|          3.0|       3.0|\n",
            "|280_Degrees_Afric...|eatery, standard,...|          3.0|       3.0|\n",
            "|280_Degrees_Afric...|groupon, worth, t...|          3.0|       3.0|\n",
            "+--------------------+--------------------+-------------+----------+\n",
            "only showing top 20 rows\n",
            "\n"
          ]
        }
      ],
      "source": [
        "lrdf.show(n = 20)"
      ]
    },
    {
      "cell_type": "markdown",
      "metadata": {
        "id": "WfHa3QjpGqvb"
      },
      "source": [
        "We can determine how accurate our model is by viewing the proportion of predictions that actually match our label."
      ]
    },
    {
      "cell_type": "code",
      "execution_count": null,
      "metadata": {
        "id": "9la1kIvpijwm"
      },
      "outputs": [],
      "source": [
        "prediction = prediction.select('restaurant_name', 'review_full', \\\n",
        "                                          'rating_review', 'prediction')\n",
        "prediction = prediction.withColumn('rating_prediction', col('prediction') - 5)\n",
        "prediction = prediction.drop('prediction')\n",
        "prediction = prediction.withColumn('prediction', col('rating_prediction')*-1)\n",
        "prediction = prediction.drop('rating_prediction')"
      ]
    },
    {
      "cell_type": "code",
      "execution_count": null,
      "metadata": {
        "colab": {
          "base_uri": "https://localhost:8080/"
        },
        "id": "5yCE8EtbmTVZ",
        "outputId": "01cd0e76-8e91-4ca2-d0fb-8513e7ba51a4"
      },
      "outputs": [
        {
          "output_type": "stream",
          "name": "stdout",
          "text": [
            "+--------------------+--------------------+-------------+----------+\n",
            "|     restaurant_name|         review_full|rating_review|prediction|\n",
            "+--------------------+--------------------+-------------+----------+\n",
            "|Lokkanta_Meze_Bar...|highly, recommend...|          5.0|       5.0|\n",
            "|R_H_Cafe_Art_Gallery|lovely, cafe, fam...|          5.0|       5.0|\n",
            "|     The_Pig_Butcher|real, treat, meat...|          5.0|       5.0|\n",
            "|      100_Wardour_St|bar, heart, soho,...|          5.0|       5.0|\n",
            "| Al_Basha_Restaurant|friend, mine, say...|          3.0|       3.0|\n",
            "|           Flat_Iron|really, good, res...|          5.0|       5.0|\n",
            "|     Agra_Restaurant|recent, trip, lon...|          5.0|       5.0|\n",
            "|Wright_Brothers_B...|visited, work, di...|          5.0|       5.0|\n",
            "|Mr_Fogg_s_Gin_Par...|place, ginlovers,...|          5.0|       5.0|\n",
            "|              Avista|went, enjoy, , co...|          1.0|       3.0|\n",
            "|          Bar_Boulud|mood, french, foo...|          5.0|       4.0|\n",
            "|Spice_Village_Too...|first, appearance...|          3.0|       4.0|\n",
            "|       Pret_A_Manger|even, though, cha...|          4.0|       5.0|\n",
            "| The_Delhi_Brasserie|poor, quality, me...|          2.0|       2.0|\n",
            "|Ye_Olde_Cheshire_...|main, street, eas...|          4.0|       4.0|\n",
            "|     The_Jack_Horner|colleague, really...|          5.0|       5.0|\n",
            "|            Ambience|came, friend, fam...|          5.0|       5.0|\n",
            "|         Garfunkel_s|son, pizza, kid, ...|          2.0|       3.0|\n",
            "+--------------------+--------------------+-------------+----------+\n",
            "\n"
          ]
        }
      ],
      "source": [
        "prediction.sample(.0001).show()"
      ]
    },
    {
      "cell_type": "markdown",
      "metadata": {
        "id": "n0Ve6r30tdSF"
      },
      "source": [
        "Here we take the number of rows where the actual review matches our predicted review and divide by the number of total rows."
      ]
    },
    {
      "cell_type": "code",
      "execution_count": null,
      "metadata": {
        "id": "SKOuk971qnpy"
      },
      "outputs": [],
      "source": [
        "hits = prediction.filter(prediction[2] == \\\n",
        "                         prediction[3]).count()\n",
        "total = prediction.count()"
      ]
    },
    {
      "cell_type": "code",
      "execution_count": null,
      "metadata": {
        "colab": {
          "base_uri": "https://localhost:8080/"
        },
        "id": "mWvIcvbutsKY",
        "outputId": "9278212e-fb52-4fe8-f8b9-c4636f56622c"
      },
      "outputs": [
        {
          "output_type": "stream",
          "name": "stdout",
          "text": [
            "0.6855034508412211\n"
          ]
        }
      ],
      "source": [
        "print(hits/total)"
      ]
    },
    {
      "cell_type": "markdown",
      "metadata": {
        "id": "L3F7pMi2A2lh"
      },
      "source": [
        "Creating a UDF to convert a rating_review to a word, 'Positive', 'Negative', or 'Neutral'. Then using this UDF to convert our previous testing set RDD to words."
      ]
    },
    {
      "cell_type": "code",
      "execution_count": null,
      "metadata": {
        "id": "IW_tvLQTuG6-"
      },
      "outputs": [],
      "source": [
        "def sent(x):\n",
        "  if x == 3:\n",
        "    return 'Neutral'\n",
        "  elif x > 3:\n",
        "    return 'Positive'\n",
        "  else:\n",
        "    return 'Negative'\n",
        "\n",
        "sent_udf = udf(lambda x: sent(x))"
      ]
    },
    {
      "cell_type": "code",
      "execution_count": null,
      "metadata": {
        "id": "nASCGB24vOK5"
      },
      "outputs": [],
      "source": [
        "prediction = prediction.select(col('*'), sent_udf(col('rating_review')))\n",
        "prediction = prediction.drop(col('rating_review'))\n",
        "prediction = prediction.withColumnRenamed('<lambda>(rating_review)', 'off_sent')\n",
        "#prediction.show(n = 5)"
      ]
    },
    {
      "cell_type": "code",
      "execution_count": null,
      "metadata": {
        "id": "dHZPmKP6wOQG"
      },
      "outputs": [],
      "source": [
        "prediction = prediction.select(col('*'), sent_udf(col('prediction')))\n",
        "prediction = prediction.drop(col('prediction'))\n",
        "prediction = prediction.withColumnRenamed('<lambda>(prediction)', 'pred_sent')\n",
        "#prediction.show(n = 5)"
      ]
    },
    {
      "cell_type": "code",
      "execution_count": null,
      "metadata": {
        "colab": {
          "base_uri": "https://localhost:8080/"
        },
        "id": "0C3259JZwqf9",
        "outputId": "05021318-2a77-4429-a643-d6e75842f99e"
      },
      "outputs": [
        {
          "output_type": "stream",
          "name": "stdout",
          "text": [
            "+--------------------+--------------------+--------+---------+\n",
            "|     restaurant_name|         review_full|off_sent|pred_sent|\n",
            "+--------------------+--------------------+--------+---------+\n",
            "|Seven_Park_Place_...|went, last, satur...|Positive| Positive|\n",
            "|              Aviary|aviary, rooftop, ...|Positive| Positive|\n",
            "|   Galvin_at_Windows|treated, girlfrie...|Positive| Positive|\n",
            "|   The_Monkey_Puzzle|great, service, b...|Positive| Positive|\n",
            "|L_Escargot_Restau...|eaten, restaurant...|Negative| Positive|\n",
            "|    Mr_Fogg_s_Tavern|staff, made, plac...|Positive| Positive|\n",
            "|     Smith_Wollensky|first, time, ive,...|Positive| Positive|\n",
            "|             Al_Duca|eaten, many, time...|Positive| Positive|\n",
            "|     The_Mawson_Arms|, turned, spec, n...|Positive| Positive|\n",
            "|Le_Relais_De_Veni...|eaten, several, t...|Positive| Positive|\n",
            "|Muriel_s_Kitchen_...|loved, place, ret...|Positive| Positive|\n",
            "|O_Neill_s_Kings_C...|always, least, on...|Positive| Positive|\n",
            "+--------------------+--------------------+--------+---------+\n",
            "\n"
          ]
        }
      ],
      "source": [
        "prediction.sample(.0001).show()"
      ]
    },
    {
      "cell_type": "markdown",
      "metadata": {
        "id": "R5s6RmJIBD9P"
      },
      "source": [
        "Determining how many rows have a sentiment review and predicted sentiment that match. The 'total' number of rows remains unchanged."
      ]
    },
    {
      "cell_type": "code",
      "execution_count": null,
      "metadata": {
        "id": "Bk6u1mAjyETE"
      },
      "outputs": [],
      "source": [
        "sent_hits = prediction.filter(prediction.off_sent == \\\n",
        "                         prediction.pred_sent).count()"
      ]
    },
    {
      "cell_type": "code",
      "execution_count": null,
      "metadata": {
        "colab": {
          "base_uri": "https://localhost:8080/"
        },
        "id": "UO_ksEnhyfSR",
        "outputId": "64b4583f-315d-4202-dc7d-4304ea161074"
      },
      "outputs": [
        {
          "output_type": "stream",
          "name": "stdout",
          "text": [
            "0.8932425843357444\n"
          ]
        }
      ],
      "source": [
        "print(sent_hits/total)"
      ]
    },
    {
      "cell_type": "markdown",
      "metadata": {
        "id": "ccRetzgKtN5c"
      },
      "source": [
        "Last step, word cloud based on positive/negative reviews"
      ]
    },
    {
      "cell_type": "code",
      "execution_count": null,
      "metadata": {
        "id": "NggPWdjWADFN"
      },
      "outputs": [],
      "source": [
        "import matplotlib.pyplot as plt\n",
        "from wordcloud import WordCloud\n",
        "from collections import ChainMap\n",
        "import pyspark.sql.functions as F"
      ]
    },
    {
      "cell_type": "code",
      "execution_count": null,
      "metadata": {
        "id": "YCMUHtKCADFO"
      },
      "outputs": [],
      "source": [
        "cloud_df = df.drop('restaurant_name', 'sample')"
      ]
    },
    {
      "cell_type": "code",
      "execution_count": null,
      "metadata": {
        "colab": {
          "base_uri": "https://localhost:8080/"
        },
        "id": "Y5UqjMuQADFO",
        "outputId": "01f51cc1-ef2e-4714-a0a8-a32fa95a898e"
      },
      "outputs": [
        {
          "output_type": "stream",
          "name": "stdout",
          "text": [
            "+-------------+--------------------+\n",
            "|rating_review|         review_full|\n",
            "+-------------+--------------------+\n",
            "|          5.0|away, couple, mon...|\n",
            "|          5.0|recently, ordered...|\n",
            "|          5.0|came, missed, tab...|\n",
            "|          5.0|first, time, coco...|\n",
            "|          5.0|healthyhomemade, ...|\n",
            "+-------------+--------------------+\n",
            "only showing top 5 rows\n",
            "\n"
          ]
        }
      ],
      "source": [
        "cloud_df.show(n = 5)"
      ]
    },
    {
      "cell_type": "code",
      "execution_count": null,
      "metadata": {
        "colab": {
          "base_uri": "https://localhost:8080/"
        },
        "id": "5dXymr0cADFO",
        "outputId": "50f43bdd-7225-4aba-94d9-c80cf6841412"
      },
      "outputs": [
        {
          "output_type": "stream",
          "name": "stdout",
          "text": [
            "+--------------------+--------+\n",
            "|         review_full|    sent|\n",
            "+--------------------+--------+\n",
            "|away, couple, mon...|Positive|\n",
            "|recently, ordered...|Positive|\n",
            "|came, missed, tab...|Positive|\n",
            "|first, time, coco...|Positive|\n",
            "|healthyhomemade, ...|Positive|\n",
            "+--------------------+--------+\n",
            "only showing top 5 rows\n",
            "\n"
          ]
        }
      ],
      "source": [
        "cloud_df = cloud_df.select(col('*'), sent_udf(col('rating_review')))\n",
        "cloud_df = cloud_df.drop(col('rating_review'))\n",
        "cloud_df = cloud_df.withColumnRenamed('<lambda>(rating_review)', 'sent')\n",
        "cloud_df.show(n = 5)"
      ]
    },
    {
      "cell_type": "code",
      "execution_count": null,
      "metadata": {
        "id": "VPn-kuT7ADFO"
      },
      "outputs": [],
      "source": [
        "pos_df = cloud_df.filter(cloud_df.sent == 'Positive')\n",
        "neg_df = cloud_df.filter(cloud_df.sent == 'Negative')"
      ]
    },
    {
      "cell_type": "code",
      "execution_count": null,
      "metadata": {
        "colab": {
          "base_uri": "https://localhost:8080/"
        },
        "id": "sk2MTocICvfV",
        "outputId": "e103967d-5581-4895-bbbc-9ac8cc454436"
      },
      "outputs": [
        {
          "output_type": "stream",
          "name": "stdout",
          "text": [
            "+--------------------+--------+\n",
            "|         review_full|    sent|\n",
            "+--------------------+--------+\n",
            "|away, couple, mon...|Positive|\n",
            "|recently, ordered...|Positive|\n",
            "|came, missed, tab...|Positive|\n",
            "|first, time, coco...|Positive|\n",
            "|healthyhomemade, ...|Positive|\n",
            "+--------------------+--------+\n",
            "only showing top 5 rows\n",
            "\n"
          ]
        }
      ],
      "source": [
        "pos_df.show(n = 5)"
      ]
    },
    {
      "cell_type": "code",
      "execution_count": null,
      "metadata": {
        "colab": {
          "base_uri": "https://localhost:8080/"
        },
        "id": "sEGIKU9JCxLg",
        "outputId": "cec04139-cbcc-421d-ec96-d7fbd6585490"
      },
      "outputs": [
        {
          "output_type": "stream",
          "name": "stdout",
          "text": [
            "+--------------------+--------+\n",
            "|         review_full|    sent|\n",
            "+--------------------+--------+\n",
            "|ordered, , set, m...|Negative|\n",
            "|poor, service, fo...|Negative|\n",
            "|partner, came, di...|Negative|\n",
            "|excited, go, serv...|Negative|\n",
            "|disappointed, del...|Negative|\n",
            "+--------------------+--------+\n",
            "only showing top 5 rows\n",
            "\n"
          ]
        }
      ],
      "source": [
        "neg_df.show(n = 5)"
      ]
    },
    {
      "cell_type": "code",
      "execution_count": null,
      "metadata": {
        "id": "Qp6DdyRKDGSl"
      },
      "outputs": [],
      "source": [
        "wordcloud = WordCloud(background_color = 'white')"
      ]
    },
    {
      "cell_type": "code",
      "execution_count": null,
      "metadata": {
        "id": "psmhRJ8lDLUP"
      },
      "outputs": [],
      "source": [
        "words = dict(ChainMap(*pos_df.select(F.create_map('review_full', 'sent')).rdd.map(lambda x: x[0]).collect()))"
      ]
    },
    {
      "cell_type": "code",
      "execution_count": null,
      "metadata": {
        "id": "lwOS8dUGFvyA"
      },
      "outputs": [],
      "source": [
        "plt.imshow(wordcloud.generate_from_frequencies(words))"
      ]
    },
    {
      "cell_type": "code",
      "execution_count": null,
      "metadata": {
        "id": "gX2V6q3CLrjk"
      },
      "outputs": [],
      "source": [
        "word_count = (\n",
        "    pos_df.withColumn('review_full', F.explode(F.split(F.col('review_full'), '\\s+')))\n",
        "    .withColumn('review_full', F.regexp_replace('review_full', '[^\\w]', ''))\n",
        "    .groupBy('review_full')\n",
        "    .count()\n",
        "    .sort('count', ascending = False)\n",
        ")"
      ]
    },
    {
      "cell_type": "code",
      "execution_count": null,
      "metadata": {
        "colab": {
          "background_save": true
        },
        "id": "RybTiEhWNJWL"
      },
      "outputs": [],
      "source": [
        "word_count.show(10)"
      ]
    },
    {
      "cell_type": "markdown",
      "metadata": {
        "id": "2iDoa12-WoWJ"
      },
      "source": []
    },
    {
      "cell_type": "markdown",
      "metadata": {
        "id": "4T9hvNJiWoJH"
      },
      "source": []
    },
    {
      "cell_type": "markdown",
      "metadata": {
        "id": "dY__puOntQmh"
      },
      "source": [
        "Many lines skipped to separate this from the stuff above."
      ]
    },
    {
      "cell_type": "markdown",
      "metadata": {
        "id": "IifzDLXjtU0m"
      },
      "source": [
        "Textblob testing"
      ]
    },
    {
      "cell_type": "markdown",
      "metadata": {
        "id": "8pqAkP5mtevh"
      },
      "source": [
        "Textblob is a Python library for NLP. It includes a simple API for sentiment analysis. We can use this to test the accuracy of our model."
      ]
    },
    {
      "cell_type": "code",
      "execution_count": null,
      "metadata": {
        "id": "PD_spLk7td4b"
      },
      "outputs": [],
      "source": [
        "from textblob import TextBlob"
      ]
    },
    {
      "cell_type": "code",
      "execution_count": null,
      "metadata": {
        "id": "FWpkGhuyt3GH"
      },
      "outputs": [],
      "source": [
        "def sentiment_score(review):\n",
        "  return TextBlob(review).sentiment.polarity"
      ]
    },
    {
      "cell_type": "code",
      "execution_count": null,
      "metadata": {
        "id": "-0NC3Ught8Qt"
      },
      "outputs": [],
      "source": [
        "sentiment_udf = udf(lambda x: sentiment_score(x), DoubleType())"
      ]
    },
    {
      "cell_type": "code",
      "execution_count": null,
      "metadata": {
        "id": "e8o4T72Qt9nk"
      },
      "outputs": [],
      "source": [
        "tbdf = df.select('restaurant_name', 'rating_review', 'review_full',\n",
        "               sentiment_udf('review_full').alias('sentiment_score'))"
      ]
    },
    {
      "cell_type": "code",
      "execution_count": null,
      "metadata": {
        "id": "SHGA4WTduGyf"
      },
      "outputs": [],
      "source": [
        "tbdf.groupBy('restaurant_name')\\\n",
        "     .agg(avg('sentiment_score').alias('avg_sentiment_score'))\\\n",
        "     .orderBy('avg_sentiment_score', ascending = False) \\\n",
        "     .show()"
      ]
    },
    {
      "cell_type": "code",
      "execution_count": null,
      "metadata": {
        "id": "r86SWekVhEbl"
      },
      "outputs": [],
      "source": [
        "#Fetch the resturent location and collect sentiment score depending lo location\n",
        "#Classify resturent depending on food items\n",
        "#Compare your result with the rating of the resturant"
      ]
    }
  ],
  "metadata": {
    "accelerator": "GPU",
    "colab": {
      "machine_shape": "hm",
      "provenance": [],
      "gpuClass": "premium"
    },
    "gpuClass": "premium",
    "kernelspec": {
      "display_name": "Python 3",
      "name": "python3"
    },
    "language_info": {
      "name": "python"
    }
  },
  "nbformat": 4,
  "nbformat_minor": 0
}